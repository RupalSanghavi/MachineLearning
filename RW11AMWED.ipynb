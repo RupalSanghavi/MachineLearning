{
 "cells": [
  {
   "cell_type": "code",
   "execution_count": 143,
   "metadata": {
    "collapsed": false
   },
   "outputs": [
    {
     "name": "stdout",
     "output_type": "stream",
     "text": [
      "The memory_profiler extension is already loaded. To reload it, use:\n",
      "  %reload_ext memory_profiler\n"
     ]
    }
   ],
   "source": [
    "import pandas as pd\n",
    "import numpy as np\n",
    "import matplotlib.pyplot as plt\n",
    "import warnings\n",
    "warnings.simplefilter('ignore', DeprecationWarning)\n",
    "%matplotlib inline \n",
    "%load_ext memory_profiler\n",
    "from sklearn.metrics import accuracy_score\n",
    "from scipy.special import expit\n",
    "import time\n",
    "import math\n",
    "\n",
    "df = pd.read_csv('responses.csv', sep=\",\")"
   ]
  },
  {
   "cell_type": "code",
   "execution_count": 144,
   "metadata": {
    "collapsed": true
   },
   "outputs": [],
   "source": [
    "# change NaN number values to the mean\n",
    "df_imputed = df.fillna(df.median())\n",
    "# get categorical features\n",
    "object_features = list(df.select_dtypes(include=['object']).columns)\n",
    "# one hot encode categorical features\n",
    "one_hot_df = pd.concat([pd.get_dummies(df_imputed[col],prefix=col) for col in object_features], axis=1)\n",
    "# drop object features from imputed dataframe\n",
    "df_imputed_dropped = df_imputed.drop(object_features, 1)\n",
    "frames = [df_imputed_dropped, one_hot_df]\n",
    "# concatenate both frames by columns\n",
    "df_fixed = pd.concat(frames, axis=1)"
   ]
  },
  {
   "cell_type": "code",
   "execution_count": 145,
   "metadata": {
    "collapsed": false
   },
   "outputs": [
    {
     "name": "stdout",
     "output_type": "stream",
     "text": [
      "ShuffleSplit(n_splits=1, random_state=None, test_size=0.2, train_size=None)\n"
     ]
    }
   ],
   "source": [
    "from sklearn.model_selection import ShuffleSplit\n",
    "\n",
    "# we want to predict the X and y data as follows:\n",
    "if 'Fear of public speaking' in df_fixed:\n",
    "    y = df_fixed['Fear of public speaking'].values # get the labels we want\n",
    "    del df_fixed['Fear of public speaking'] # get rid of the class label\n",
    "    X = (df_fixed.values) # use everything else to predict!\n",
    "\n",
    "num_cv_iterations = 1\n",
    "num_instances = len(y)\n",
    "cv_object = ShuffleSplit(\n",
    "                         n_splits=num_cv_iterations,\n",
    "                         test_size  = 0.2)\n",
    "                         \n",
    "print(cv_object)"
   ]
  },
  {
   "cell_type": "code",
   "execution_count": 146,
   "metadata": {
    "collapsed": false
   },
   "outputs": [
    {
     "name": "stdout",
     "output_type": "stream",
     "text": [
      "CPU times: user 34 µs, sys: 0 ns, total: 34 µs\n",
      "Wall time: 37.9 µs\n"
     ]
    }
   ],
   "source": [
    "%%time\n",
    "# from last time, our logistic regression algorithm is given by (including everything we previously had):\n",
    "class BinaryLogisticRegression:\n",
    "    def __init__(self, eta, iterations=20, C=0.001):\n",
    "        self.eta = eta\n",
    "        self.iters = iterations\n",
    "        self.C = C\n",
    "        # internally we will store the weights as self.w_ to keep with sklearn conventions\n",
    "        \n",
    "    def __str__(self):\n",
    "        if(hasattr(self,'w_')):\n",
    "            return 'Binary Logistic Regression Object with coefficients:\\n'+ str(self.w_) # is we have trained the object\n",
    "        else:\n",
    "            return 'Untrained Binary Logistic Regression Object'\n",
    "        \n",
    "    # convenience, private:\n",
    "    @staticmethod\n",
    "    def _add_bias(X):\n",
    "        return np.hstack((np.ones((X.shape[0],1)),X)) # add bias term\n",
    "    \n",
    "    @staticmethod\n",
    "    def _sigmoid(theta):\n",
    "        # increase stability, redefine sigmoid operation\n",
    "        return expit(theta) #1/(1+np.exp(-theta))\n",
    "    \n",
    "    # vectorized gradient calculation with regularization using L2 Norm\n",
    "    def _get_gradient(self,X,y):\n",
    "        ydiff = y-self.predict_proba(X,add_bias=False).ravel() # get y difference\n",
    "        gradient = np.mean(X * ydiff[:,np.newaxis], axis=0) # make ydiff a column vector and multiply through\n",
    "        \n",
    "        gradient = gradient.reshape(self.w_.shape)\n",
    "        gradient[1:] += 2 * self.w_[1:] * self.C\n",
    "        \n",
    "        return gradient\n",
    "    \n",
    "    # public:\n",
    "    def predict_proba(self,X,add_bias=True):\n",
    "        # add bias term if requested\n",
    "        Xb = self._add_bias(X) if add_bias else X\n",
    "        return self._sigmoid(Xb @ self.w_) # return the probability y=1\n",
    "    \n",
    "    def predict(self,X):\n",
    "        return (self.predict_proba(X)>0.5) #return the actual prediction\n",
    "    \n",
    "    \n",
    "    def fit(self, X, y):\n",
    "        Xb = self._add_bias(X) # add bias term\n",
    "        num_samples, num_features = Xb.shape\n",
    "        \n",
    "        self.w_ = np.zeros((num_features,1)) # init weight vector to zeros\n",
    "        \n",
    "        # for as many as the max iterations\n",
    "        for _ in range(self.iters):\n",
    "            gradient = self._get_gradient(Xb,y)\n",
    "            self.w_ += gradient*self.eta # multiply by learning rate \n",
    "\n",
    "# blr = BinaryLogisticRegression(eta=0.1,iterations=500,C=0.001)\n",
    "\n",
    "# blr.fit(X,y)\n",
    "# print(blr)\n",
    "\n",
    "# yhat = blr.predict(X)\n",
    "# print('Accuracy of: ',accuracy_score(y,yhat+1))"
   ]
  },
  {
   "cell_type": "code",
   "execution_count": 147,
   "metadata": {
    "collapsed": false
   },
   "outputs": [
    {
     "name": "stdout",
     "output_type": "stream",
     "text": [
      "CPU times: user 36 µs, sys: 0 ns, total: 36 µs\n",
      "Wall time: 41 µs\n"
     ]
    }
   ],
   "source": [
    "%%time\n",
    "from numpy.linalg import pinv\n",
    "class HessianBinaryLogisticRegression(BinaryLogisticRegression):\n",
    "    # just overwrite gradient function\n",
    "    def _get_gradient(self,X,y):\n",
    "        g = self.predict_proba(X,add_bias=False).ravel() # get sigmoid value for all classes\n",
    "        hessian = X.T @ np.diag(g*(1-g)) @ X + 2 * self.C # calculate the hessian\n",
    "\n",
    "        ydiff = y-g # get y difference\n",
    "        gradient = np.sum(X * ydiff[:,np.newaxis], axis=0) # make ydiff a column vector and multiply through\n",
    "        gradient = gradient.reshape(self.w_.shape)\n",
    "        gradient[1:] += 2 * self.w_[1:] * self.C\n",
    "        \n",
    "        return pinv(hessian) @ gradient\n",
    "       \n",
    "# hlr = HessianBinaryLogisticRegression(eta=0.1,iterations=20,C=0.1) # note that we need only a few iterations here\n",
    "\n",
    "# hlr.fit(X,y)\n",
    "# yhat = hlr.predict(X)\n",
    "# print(hlr)\n",
    "# print('Accuracy of: ',accuracy_score(y,yhat+1))"
   ]
  },
  {
   "cell_type": "code",
   "execution_count": 148,
   "metadata": {
    "collapsed": false
   },
   "outputs": [
    {
     "name": "stdout",
     "output_type": "stream",
     "text": [
      "CPU times: user 42 µs, sys: 0 ns, total: 42 µs\n",
      "Wall time: 45.1 µs\n"
     ]
    }
   ],
   "source": [
    "%%time\n",
    "# and we can update this to use a line search along the gradient like this:\n",
    "from scipy.optimize import minimize_scalar\n",
    "from scipy.optimize import OptimizeResult\n",
    "\n",
    "import copy\n",
    "class LineSearchLogisticRegression(BinaryLogisticRegression):\n",
    "    \n",
    "    # define custom line search for problem\n",
    "    @staticmethod\n",
    "    def line_search_function(eta,X,y,w,grad):\n",
    "        wnew = w + grad*eta\n",
    "        yhat = (1/(1+np.exp(-X @ wnew)))>0.5\n",
    "        return np.sum((y-yhat)**2)+np.sum(wnew**2)\n",
    "    @staticmethod\n",
    "    def line_search_function_l1(eta,X,y,w,grad):\n",
    "        if(math.sin(w) < 0 ):\n",
    "            w -=1\n",
    "        elif(math.sin(w) > 0):\n",
    "            w += 1\n",
    "        else:\n",
    "            w = w\n",
    "        wnew = w + grad*eta\n",
    "        yhat = (1/(1+np.exp(-X @ wnew)))>0.5\n",
    "        return np.sum((y-yhat)**2)+np.sum(math.fabs(wnew))\n",
    "    \n",
    "    def fit(self, X, y):\n",
    "        Xb = self._add_bias(X) # add bias term\n",
    "        num_samples, num_features = Xb.shape\n",
    "        \n",
    "        self.w_ = np.zeros((num_features,1)) # init weight vector to zeros\n",
    "        \n",
    "        # for as many as the max iterations\n",
    "        for _ in range(self.iters):\n",
    "            gradient = self._get_gradient(Xb,y)\n",
    "            \n",
    "            # do line search in gradient direction, using scipy function\n",
    "            opts = {'maxiter':self.iters/20} # unclear exactly what this should be\n",
    "            res = minimize_scalar(self.line_search_function, # objective function to optimize\n",
    "                                  bounds=(self.eta/1000,self.eta*10), #bounds to optimize\n",
    "                                  args=(Xb,y,self.w_,gradient), # additional argument for objective function\n",
    "                                  method='bounded', # bounded optimization for speed\n",
    "                                  options=opts) # set max iterations\n",
    "            eta = res.x # get optimal learning rate\n",
    "            self.w_ += gradient*eta # set new function values\n",
    "                \n",
    "            \n",
    "\n",
    "# lslr = LineSearchLogisticRegression(eta=0.1,iterations=110, C=0.001)\n",
    "\n",
    "# lslr.fit(X,y)\n",
    "\n",
    "# yhat = lslr.predict(X)\n",
    "# print(lslr)\n",
    "# print('Accuracy of: ',accuracy_score(y,yhat))         "
   ]
  },
  {
   "cell_type": "code",
   "execution_count": 149,
   "metadata": {
    "collapsed": false
   },
   "outputs": [
    {
     "name": "stdout",
     "output_type": "stream",
     "text": [
      "CPU times: user 26 µs, sys: 1e+03 ns, total: 27 µs\n",
      "Wall time: 29.1 µs\n"
     ]
    }
   ],
   "source": [
    "%%time\n",
    "class StochasticLogisticRegression(BinaryLogisticRegression):\n",
    "    # stochastic gradient calculation \n",
    "    def _get_gradient(self,X,y):\n",
    "        idx = int(np.random.rand()*len(y)) # grab random instance\n",
    "        ydiff = y[idx]-self.predict_proba(X[idx],add_bias=False) # get y difference (now scalar)\n",
    "        gradient = X[idx] * ydiff[:,np.newaxis] # make ydiff a column vector and multiply through\n",
    "        \n",
    "        gradient = gradient.reshape(self.w_.shape)\n",
    "        gradient[1:] += 2 * self.w_[1:] * self.C\n",
    "        \n",
    "        return gradient\n",
    "    \n",
    "    \n",
    "# slr = StochasticLogisticRegression(0.1,1000, C=0.001) # take a lot more steps!!\n",
    "\n",
    "# slr.fit(X,y)\n",
    "\n",
    "# yhat = slr.predict(X)\n",
    "# print(slr)\n",
    "# print('Accuracy of: ',accuracy_score(y,yhat))      "
   ]
  },
  {
   "cell_type": "code",
   "execution_count": 150,
   "metadata": {
    "collapsed": false
   },
   "outputs": [
    {
     "name": "stdout",
     "output_type": "stream",
     "text": [
      "CPU times: user 43 µs, sys: 1 µs, total: 44 µs\n",
      "Wall time: 48.9 µs\n"
     ]
    }
   ],
   "source": [
    "%%time\n",
    "# for this, we won't perform our own BFGS implementation \n",
    "# (it takes a good deal of code and understanding of the algorithm)\n",
    "# luckily for us, scipy has its own BFGS implementation:\n",
    "from scipy.optimize import fmin_bfgs\n",
    "class BFGSBinaryLogisticRegression(BinaryLogisticRegression):\n",
    "    \n",
    "    @staticmethod\n",
    "    def objective_function(w,X,y,C):\n",
    "        g = expit(X @ w)\n",
    "        return -np.sum(np.log(g[y==1]))-np.sum(np.log(1-g[y==0])) + C*sum(w**2) #-np.sum(y*np.log(g)+(1-y)*np.log(1-g))\n",
    "\n",
    "    @staticmethod\n",
    "    def objective_gradient(w,X,y,C):\n",
    "        g = expit(X @ w)\n",
    "        ydiff = y-g # get y difference\n",
    "        gradient = np.mean(X * ydiff[:,np.newaxis], axis=0)\n",
    "        gradient = gradient.reshape(w.shape)\n",
    "        gradient[1:] += 2 * w[1:] * C\n",
    "        return -gradient\n",
    "    \n",
    "    # just overwrite fit function\n",
    "    def fit(self, X, y):\n",
    "        Xb = self._add_bias(X) # add bias term\n",
    "        num_samples, num_features = Xb.shape\n",
    "        \n",
    "        self.w_ = fmin_bfgs(self.objective_function, # what to optimize\n",
    "                            np.zeros((num_features,1)), # starting point\n",
    "                            fprime=self.objective_gradient, # gradient function\n",
    "                            args=(Xb,y,self.C), # extra args for gradient and objective function\n",
    "                            gtol=1e-03, # stopping criteria for gradient, |v_k|\n",
    "                            maxiter=self.iters, # stopping criteria iterations\n",
    "                            disp=False)\n",
    "        result = fmin_bfgs(self.objective_function, # what to optimize\n",
    "                            np.zeros((num_features,1)), # starting point\n",
    "                            fprime=self.objective_gradient, # gradient function\n",
    "                            args=(Xb,y,self.C), # extra args for gradient and objective function\n",
    "                            gtol=1e-03, # stopping criteria for gradient, |v_k|\n",
    "                            maxiter=self.iters, # stopping criteria iterations\n",
    "                            disp=False,\n",
    "                            retall=True)\n",
    "        self.w_ = self.w_.reshape((num_features,1))\n",
    "            \n",
    "# bfgslr = BFGSBinaryLogisticRegression(_,2) # note that we need only a few iterations here\n",
    "\n",
    "# bfgslr.fit(X,y)\n",
    "# yhat = bfgslr.predict(X)\n",
    "# print(bfgslr)\n",
    "# print('Accuracy of: ',accuracy_score(y,yhat+1))"
   ]
  },
  {
   "cell_type": "code",
   "execution_count": 151,
   "metadata": {
    "collapsed": false
   },
   "outputs": [],
   "source": [
    "class MultiClassLogisticRegression:\n",
    "    def __init__(self, eta, iterations=20, C=0.0001, optimization=None):\n",
    "        self.eta = eta\n",
    "        self.iters = iterations\n",
    "        self.C = C\n",
    "        self.classifiers_ = []\n",
    "        self.optimization = optimization\n",
    "        # internally we will store the weights as self.w_ to keep with sklearn conventions\n",
    "    \n",
    "    def __str__(self):\n",
    "        if(hasattr(self,'w_')):\n",
    "            return 'MultiClass Logistic Regression Object with coefficients:\\n'+ str(self.w_) # is we have trained the object\n",
    "        else:\n",
    "            return 'Untrained MultiClass Logistic Regression Object'\n",
    "        \n",
    "    def fit(self,X,y):\n",
    "        num_samples, num_features = X.shape\n",
    "        self.unique_ = np.sort(np.unique(y)) # get each unique class value\n",
    "        num_unique_classes = len(self.unique_)\n",
    "        self.classifiers_ = []\n",
    "        for i,yval in enumerate(self.unique_): # for each unique value\n",
    "            y_binary = y==yval # create a binary problem\n",
    "            # train the binary classifier for this class\n",
    "            #hblr = HessianBinaryLogisticRegression(self.eta,self.iters,self.C)\n",
    "            if(self.optimization == \"BFGSBinaryLogisticRegression\"):\n",
    "                self.iters = 10\n",
    "                print(\"BFGS\")\n",
    "                hblr = BFGSBinaryLogisticRegression(self.eta,self.iters,self.C)\n",
    "            elif(self.optimization == \"StochasticLogisticRegression\"):\n",
    "                self.iters = 2000 #1000\n",
    "                print(\"Stohastic\")\n",
    "                hblr = StochasticLogisticRegression(self.eta,self.iters,self.C)\n",
    "            else:\n",
    "                self.iters = 100\n",
    "                self.C = 0.001\n",
    "                print(\"Line Search\")\n",
    "                hblr = LineSearchLogisticRegression(self.eta,self.iters,self.C)\n",
    "\n",
    "            hblr.fit(X,y_binary)\n",
    "            #print(accuracy(y_binary,hblr.predict(X)))\n",
    "            # add the trained classifier to the list\n",
    "            self.classifiers_.append(hblr)\n",
    "            \n",
    "        # save all the weights into one matrix, separate column for each class\n",
    "        self.w_ = np.hstack([x.w_ for x in self.classifiers_]).T\n",
    "        \n",
    "    def predict_proba(self,X):\n",
    "        probs = []\n",
    "        for hblr in self.classifiers_:\n",
    "            probs.append(hblr.predict_proba(X).reshape((len(X),1))) # get probability for each classifier\n",
    "        \n",
    "        return np.hstack(probs) # make into single matrix\n",
    "    \n",
    "    def predict(self,X):\n",
    "        return np.argmax(self.predict_proba(X),axis=1) # take argmax along row\n",
    "    \n",
    "\n"
   ]
  },
  {
   "cell_type": "code",
   "execution_count": 152,
   "metadata": {
    "collapsed": false
   },
   "outputs": [
    {
     "name": "stdout",
     "output_type": "stream",
     "text": [
      "BFGS\n",
      "BFGS\n",
      "BFGS\n",
      "BFGS\n",
      "BFGS\n"
     ]
    },
    {
     "name": "stderr",
     "output_type": "stream",
     "text": [
      "/Users/rupalsanghavi/anaconda3/lib/python3.5/site-packages/ipykernel/__main__.py:10: RuntimeWarning: divide by zero encountered in log\n",
      "/Users/rupalsanghavi/anaconda3/lib/python3.5/site-packages/ipykernel/__main__.py:10: RuntimeWarning: divide by zero encountered in log\n",
      "/Users/rupalsanghavi/anaconda3/lib/python3.5/site-packages/ipykernel/__main__.py:10: RuntimeWarning: divide by zero encountered in log\n",
      "/Users/rupalsanghavi/anaconda3/lib/python3.5/site-packages/ipykernel/__main__.py:10: RuntimeWarning: divide by zero encountered in log\n"
     ]
    },
    {
     "name": "stdout",
     "output_type": "stream",
     "text": [
      "====Iteration 0  ====\n",
      "For  BFGSBinaryLogisticRegression  and cost  10.0  Accuracy of:  0.316831683168\n",
      "confusion matrix\n",
      " [[21 10  7  4  0]\n",
      " [11 15  9 11  0]\n",
      " [ 6 22 17 17  3]\n",
      " [ 3  6 15  7  2]\n",
      " [ 1  0  8  3  4]]\n",
      "Stohastic\n",
      "Stohastic\n",
      "Stohastic\n",
      "Stohastic\n",
      "Stohastic\n",
      "====Iteration 0  ====\n",
      "For  StochasticLogisticRegression  and cost  10.0  Accuracy of:  0.232673267327\n",
      "confusion matrix\n",
      " [[22  7 10  3  0]\n",
      " [21  4 11  5  0]\n",
      " [25  8 18  3  2]\n",
      " [16  6 15  3  0]\n",
      " [ 7  4 11  1  0]]\n",
      "Line Search\n"
     ]
    },
    {
     "name": "stderr",
     "output_type": "stream",
     "text": [
      "/Users/rupalsanghavi/anaconda3/lib/python3.5/site-packages/ipykernel/__main__.py:12: RuntimeWarning: overflow encountered in exp\n"
     ]
    },
    {
     "name": "stdout",
     "output_type": "stream",
     "text": [
      "Line Search\n",
      "Line Search\n",
      "Line Search\n",
      "Line Search\n",
      "====Iteration 0  ====\n",
      "For  LineSearchLogisticRegression  and cost  10.0  Accuracy of:  0.341584158416\n",
      "confusion matrix\n",
      " [[ 0 23  9  0  0]\n",
      " [ 0 27 21  8  0]\n",
      " [ 0 17 27 22  0]\n",
      " [ 0  2 15 15  0]\n",
      " [ 0  1 11  4  0]]\n"
     ]
    }
   ],
   "source": [
    "# run logistic regression and vary some parameters\n",
    "from sklearn import metrics as mt\n",
    "\n",
    "# first we create a reusable logisitic regression object\n",
    "#   here we can setup the object with different learning parameters and constants\n",
    "\n",
    "optimizations = [\"BFGSBinaryLogisticRegression\",\"StochasticLogisticRegression\",\"LineSearchLogisticRegression\"]\n",
    "\n",
    "for optimization in optimizations:\n",
    "    lr_clf = MultiClassLogisticRegression(eta=0.1,iterations=10, C=0.02, optimization=optimization) # get object\n",
    "\n",
    "\n",
    "    # now we can use the cv_object that we setup before to iterate through the \n",
    "    #    different training and testing sets. Each time we will reuse the logisitic regression \n",
    "    #    object, but it gets trained on different data each time we use it.\n",
    "\n",
    "    iter_num=0\n",
    "    # the indices are the rows used for training and testing in each iteration\n",
    "    for train_indices, test_indices in cv_object.split(X,y): \n",
    "        # I will create new variables here so that it is more obvious what \n",
    "        # the code is doing (you can compact this syntax and avoid duplicating memory,\n",
    "        # but it makes this code less readable)\n",
    "        X_train = (X[train_indices])\n",
    "        y_train = y[train_indices]\n",
    "\n",
    "    #     print(X_train)\n",
    "    #     print(y_train)\n",
    "\n",
    "        X_test = (X[test_indices])\n",
    "        y_test = y[test_indices]\n",
    "\n",
    "#         st = time.time()\n",
    "        lr_clf.fit(X_train,y_train)  # train object\n",
    "#         t = (time.time() -st)\n",
    "#         lr_clf_times.append(t)\n",
    "\n",
    "        # train the reusable logisitc regression model on the training data\n",
    "        y_hat = lr_clf.predict(X_test) # get test set precitions\n",
    "\n",
    "        # now let's get the accuracy and confusion matrix for this iterations of training/testing\n",
    "        acc = mt.accuracy_score(y_test,y_hat+1)\n",
    "#         lr_clf_accuracies.append(acc)\n",
    "#         cost_accuracies.append([acc])\n",
    "\n",
    "        conf = mt.confusion_matrix(y_test,y_hat+1)\n",
    "        print(\"====Iteration\",iter_num,\" ====\")\n",
    "        print('For ',optimization,' and cost ', cost,' Accuracy of: ',acc)\n",
    "\n",
    "        #print(\"accuracy\", acc )\n",
    "        print(\"confusion matrix\\n\",conf)\n",
    "        iter_num+=1\n",
    "\n",
    "        \n",
    "    # Also note that every time you run the above code\n",
    "    #   it randomly creates a new training and testing set, \n",
    "    #   so accuracy will be different each time"
   ]
  },
  {
   "cell_type": "code",
   "execution_count": 153,
   "metadata": {
    "collapsed": false
   },
   "outputs": [
    {
     "name": "stdout",
     "output_type": "stream",
     "text": [
      "BFGS\n",
      "BFGS\n",
      "BFGS\n",
      "BFGS\n"
     ]
    },
    {
     "name": "stderr",
     "output_type": "stream",
     "text": [
      "/Users/rupalsanghavi/anaconda3/lib/python3.5/site-packages/ipykernel/__main__.py:10: RuntimeWarning: divide by zero encountered in log\n",
      "/Users/rupalsanghavi/anaconda3/lib/python3.5/site-packages/ipykernel/__main__.py:10: RuntimeWarning: divide by zero encountered in log\n",
      "/Users/rupalsanghavi/anaconda3/lib/python3.5/site-packages/ipykernel/__main__.py:10: RuntimeWarning: divide by zero encountered in log\n",
      "/Users/rupalsanghavi/anaconda3/lib/python3.5/site-packages/ipykernel/__main__.py:10: RuntimeWarning: divide by zero encountered in log\n",
      "/Users/rupalsanghavi/anaconda3/lib/python3.5/site-packages/ipykernel/__main__.py:10: RuntimeWarning: divide by zero encountered in log\n",
      "/Users/rupalsanghavi/anaconda3/lib/python3.5/site-packages/ipykernel/__main__.py:10: RuntimeWarning: divide by zero encountered in log\n",
      "/Users/rupalsanghavi/anaconda3/lib/python3.5/site-packages/ipykernel/__main__.py:10: RuntimeWarning: divide by zero encountered in log\n",
      "/Users/rupalsanghavi/anaconda3/lib/python3.5/site-packages/ipykernel/__main__.py:10: RuntimeWarning: divide by zero encountered in log\n"
     ]
    },
    {
     "name": "stdout",
     "output_type": "stream",
     "text": [
      "BFGS\n",
      "====Iteration 0  ====\n",
      "accuracy 0.30198019802\n",
      "confusion matrix\n",
      " [[10 11  7  4  0]\n",
      " [11 13 19  4  1]\n",
      " [ 8 11 26 17  4]\n",
      " [ 2  8 11 12  5]\n",
      " [ 1  1  9  7  0]]\n",
      "BFGS\n",
      "BFGS\n",
      "BFGS\n",
      "BFGS\n",
      "BFGS\n",
      "====Iteration 0  ====\n",
      "accuracy 0.361386138614\n",
      "confusion matrix\n",
      " [[11 10  9  5  0]\n",
      " [ 8 12 16  3  1]\n",
      " [ 4 15 32 11  2]\n",
      " [ 4  4 13 11  6]\n",
      " [ 1  0 13  4  7]]\n",
      "BFGS\n",
      "BFGS\n"
     ]
    },
    {
     "name": "stderr",
     "output_type": "stream",
     "text": [
      "/Users/rupalsanghavi/anaconda3/lib/python3.5/site-packages/ipykernel/__main__.py:10: RuntimeWarning: divide by zero encountered in log\n",
      "/Users/rupalsanghavi/anaconda3/lib/python3.5/site-packages/ipykernel/__main__.py:10: RuntimeWarning: divide by zero encountered in log\n",
      "/Users/rupalsanghavi/anaconda3/lib/python3.5/site-packages/ipykernel/__main__.py:10: RuntimeWarning: divide by zero encountered in log\n",
      "/Users/rupalsanghavi/anaconda3/lib/python3.5/site-packages/ipykernel/__main__.py:10: RuntimeWarning: divide by zero encountered in log\n",
      "/Users/rupalsanghavi/anaconda3/lib/python3.5/site-packages/ipykernel/__main__.py:10: RuntimeWarning: divide by zero encountered in log\n",
      "/Users/rupalsanghavi/anaconda3/lib/python3.5/site-packages/ipykernel/__main__.py:10: RuntimeWarning: divide by zero encountered in log\n"
     ]
    },
    {
     "name": "stdout",
     "output_type": "stream",
     "text": [
      "BFGS\n",
      "BFGS\n",
      "BFGS\n"
     ]
    },
    {
     "name": "stderr",
     "output_type": "stream",
     "text": [
      "/Users/rupalsanghavi/anaconda3/lib/python3.5/site-packages/ipykernel/__main__.py:10: RuntimeWarning: divide by zero encountered in log\n",
      "/Users/rupalsanghavi/anaconda3/lib/python3.5/site-packages/ipykernel/__main__.py:10: RuntimeWarning: divide by zero encountered in log\n",
      "/Users/rupalsanghavi/anaconda3/lib/python3.5/site-packages/ipykernel/__main__.py:10: RuntimeWarning: divide by zero encountered in log\n",
      "/Users/rupalsanghavi/anaconda3/lib/python3.5/site-packages/ipykernel/__main__.py:10: RuntimeWarning: divide by zero encountered in log\n",
      "/Users/rupalsanghavi/anaconda3/lib/python3.5/site-packages/ipykernel/__main__.py:10: RuntimeWarning: divide by zero encountered in log\n",
      "/Users/rupalsanghavi/anaconda3/lib/python3.5/site-packages/ipykernel/__main__.py:10: RuntimeWarning: divide by zero encountered in log\n"
     ]
    },
    {
     "name": "stdout",
     "output_type": "stream",
     "text": [
      "====Iteration 0  ====\n",
      "accuracy 0.292079207921\n",
      "confusion matrix\n",
      " [[15 10  9  5  0]\n",
      " [ 9 13 16  7  1]\n",
      " [ 7  8 21 12  5]\n",
      " [ 4 10 17 10  4]\n",
      " [ 1  1  9  8  0]]\n",
      "BFGS\n",
      "BFGS\n",
      "BFGS\n",
      "BFGS\n",
      "BFGS\n",
      "====Iteration 0  ====\n",
      "accuracy 0.346534653465\n",
      "confusion matrix\n",
      " [[20 10  4  1  2]\n",
      " [10 15 16  4  1]\n",
      " [ 8 13 25 11  3]\n",
      " [ 0 10 12  8  7]\n",
      " [ 2  4  9  5  2]]\n",
      "BFGS\n",
      "BFGS\n",
      "BFGS\n",
      "BFGS\n",
      "BFGS\n",
      "====Iteration 0  ====\n",
      "accuracy 0.356435643564\n",
      "confusion matrix\n",
      " [[13  9  6  7  0]\n",
      " [ 9 15 12  4  0]\n",
      " [ 7 13 32 16  9]\n",
      " [ 2  8  7 11  7]\n",
      " [ 0  1  7  6  1]]\n",
      "BFGS\n",
      "BFGS\n",
      "BFGS\n",
      "BFGS\n",
      "BFGS\n",
      "====Iteration 0  ====\n",
      "accuracy 0.356435643564\n",
      "confusion matrix\n",
      " [[ 9  9  7  2  1]\n",
      " [10 16  9  8  1]\n",
      " [ 8 10 29 13  7]\n",
      " [ 4 10 15 11  5]\n",
      " [ 2  0  3  6  7]]\n",
      "BFGS\n",
      "BFGS\n",
      "BFGS\n",
      "BFGS\n",
      "BFGS\n",
      "====Iteration 0  ====\n",
      "accuracy 0.237623762376\n",
      "confusion matrix\n",
      " [[ 9  6  8  3  0]\n",
      " [13 14 17 10  1]\n",
      " [ 6 14 19 15  9]\n",
      " [ 4  2 17  5  9]\n",
      " [ 2  0  9  9  1]]\n",
      "BFGS\n",
      "BFGS\n",
      "BFGS\n",
      "BFGS\n",
      "BFGS\n",
      "====Iteration 0  ====\n",
      "accuracy 0.29702970297\n",
      "confusion matrix\n",
      " [[13  9  8  4  1]\n",
      " [ 8 16 14  9  1]\n",
      " [ 4 20 19 17  7]\n",
      " [ 5  6  9 11  3]\n",
      " [ 2  1  7  7  1]]\n",
      "BFGS\n",
      "BFGS\n",
      "BFGS\n",
      "BFGS\n",
      "BFGS\n",
      "====Iteration 0  ====\n",
      "accuracy 0.267326732673\n",
      "confusion matrix\n",
      " [[ 9  9  6  1  0]\n",
      " [ 9 17 12  7  1]\n",
      " [12 15 19 15 10]\n",
      " [ 4  6 20  4  8]\n",
      " [ 2  1  5  5  5]]\n",
      "BFGS\n",
      "BFGS\n",
      "BFGS\n"
     ]
    },
    {
     "name": "stderr",
     "output_type": "stream",
     "text": [
      "/Users/rupalsanghavi/anaconda3/lib/python3.5/site-packages/ipykernel/__main__.py:10: RuntimeWarning: divide by zero encountered in log\n",
      "/Users/rupalsanghavi/anaconda3/lib/python3.5/site-packages/ipykernel/__main__.py:10: RuntimeWarning: divide by zero encountered in log\n",
      "/Users/rupalsanghavi/anaconda3/lib/python3.5/site-packages/ipykernel/__main__.py:10: RuntimeWarning: divide by zero encountered in log\n",
      "/Users/rupalsanghavi/anaconda3/lib/python3.5/site-packages/ipykernel/__main__.py:10: RuntimeWarning: divide by zero encountered in log\n"
     ]
    },
    {
     "name": "stdout",
     "output_type": "stream",
     "text": [
      "BFGS\n",
      "BFGS\n",
      "====Iteration 0  ====\n",
      "accuracy 0.316831683168\n",
      "confusion matrix\n",
      " [[10 14  8  1  0]\n",
      " [13 15 16  6  1]\n",
      " [ 4 11 26 10  3]\n",
      " [ 4  5 15  9  8]\n",
      " [ 3  1 11  4  4]]\n",
      "BFGS\n",
      "BFGS\n",
      "BFGS\n",
      "BFGS\n",
      "BFGS\n"
     ]
    },
    {
     "name": "stderr",
     "output_type": "stream",
     "text": [
      "/Users/rupalsanghavi/anaconda3/lib/python3.5/site-packages/ipykernel/__main__.py:10: RuntimeWarning: divide by zero encountered in log\n",
      "/Users/rupalsanghavi/anaconda3/lib/python3.5/site-packages/ipykernel/__main__.py:10: RuntimeWarning: divide by zero encountered in log\n",
      "/Users/rupalsanghavi/anaconda3/lib/python3.5/site-packages/ipykernel/__main__.py:10: RuntimeWarning: divide by zero encountered in log\n",
      "/Users/rupalsanghavi/anaconda3/lib/python3.5/site-packages/ipykernel/__main__.py:10: RuntimeWarning: divide by zero encountered in log\n"
     ]
    },
    {
     "name": "stdout",
     "output_type": "stream",
     "text": [
      "====Iteration 0  ====\n",
      "accuracy 0.257425742574\n",
      "confusion matrix\n",
      " [[19  9 12  2  1]\n",
      " [11  7 15  3  2]\n",
      " [12 14 19 18  3]\n",
      " [ 4  7 12  5  4]\n",
      " [ 1  1 10  9  2]]\n",
      "BFGS\n",
      "BFGS\n"
     ]
    },
    {
     "name": "stderr",
     "output_type": "stream",
     "text": [
      "/Users/rupalsanghavi/anaconda3/lib/python3.5/site-packages/ipykernel/__main__.py:10: RuntimeWarning: divide by zero encountered in log\n",
      "/Users/rupalsanghavi/anaconda3/lib/python3.5/site-packages/ipykernel/__main__.py:10: RuntimeWarning: divide by zero encountered in log\n",
      "/Users/rupalsanghavi/anaconda3/lib/python3.5/site-packages/ipykernel/__main__.py:10: RuntimeWarning: divide by zero encountered in log\n",
      "/Users/rupalsanghavi/anaconda3/lib/python3.5/site-packages/ipykernel/__main__.py:10: RuntimeWarning: divide by zero encountered in log\n"
     ]
    },
    {
     "name": "stdout",
     "output_type": "stream",
     "text": [
      "BFGS\n",
      "BFGS\n",
      "BFGS\n",
      "====Iteration 0  ====\n",
      "accuracy 0.341584158416\n",
      "confusion matrix\n",
      " [[ 9  7  4  2  0]\n",
      " [15 16 12  6  3]\n",
      " [ 6 19 29  8  5]\n",
      " [ 4  4 17 11  3]\n",
      " [ 1  1 10  6  4]]\n",
      "BFGS\n",
      "BFGS\n",
      "BFGS\n",
      "BFGS\n",
      "BFGS\n",
      "====Iteration 0  ====\n",
      "accuracy 0.287128712871\n",
      "confusion matrix\n",
      " [[14 14  6  1  1]\n",
      " [10 19 15  5  1]\n",
      " [10 14 16 18  5]\n",
      " [ 6  5 11  7  1]\n",
      " [ 2  1 10  8  2]]\n",
      "BFGS\n"
     ]
    },
    {
     "name": "stderr",
     "output_type": "stream",
     "text": [
      "/Users/rupalsanghavi/anaconda3/lib/python3.5/site-packages/ipykernel/__main__.py:10: RuntimeWarning: divide by zero encountered in log\n",
      "/Users/rupalsanghavi/anaconda3/lib/python3.5/site-packages/ipykernel/__main__.py:10: RuntimeWarning: divide by zero encountered in log\n",
      "/Users/rupalsanghavi/anaconda3/lib/python3.5/site-packages/ipykernel/__main__.py:10: RuntimeWarning: divide by zero encountered in log\n",
      "/Users/rupalsanghavi/anaconda3/lib/python3.5/site-packages/ipykernel/__main__.py:10: RuntimeWarning: divide by zero encountered in log\n",
      "/Users/rupalsanghavi/anaconda3/lib/python3.5/site-packages/ipykernel/__main__.py:10: RuntimeWarning: divide by zero encountered in log\n",
      "/Users/rupalsanghavi/anaconda3/lib/python3.5/site-packages/ipykernel/__main__.py:10: RuntimeWarning: divide by zero encountered in log\n",
      "/Users/rupalsanghavi/anaconda3/lib/python3.5/site-packages/ipykernel/__main__.py:10: RuntimeWarning: divide by zero encountered in log\n",
      "/Users/rupalsanghavi/anaconda3/lib/python3.5/site-packages/ipykernel/__main__.py:10: RuntimeWarning: divide by zero encountered in log\n",
      "/Users/rupalsanghavi/anaconda3/lib/python3.5/site-packages/ipykernel/__main__.py:10: RuntimeWarning: divide by zero encountered in log\n",
      "/Users/rupalsanghavi/anaconda3/lib/python3.5/site-packages/ipykernel/__main__.py:10: RuntimeWarning: divide by zero encountered in log\n"
     ]
    },
    {
     "name": "stdout",
     "output_type": "stream",
     "text": [
      "BFGS\n",
      "BFGS\n"
     ]
    },
    {
     "name": "stderr",
     "output_type": "stream",
     "text": [
      "/Users/rupalsanghavi/anaconda3/lib/python3.5/site-packages/ipykernel/__main__.py:10: RuntimeWarning: divide by zero encountered in log\n",
      "/Users/rupalsanghavi/anaconda3/lib/python3.5/site-packages/ipykernel/__main__.py:10: RuntimeWarning: divide by zero encountered in log\n"
     ]
    },
    {
     "name": "stdout",
     "output_type": "stream",
     "text": [
      "BFGS\n",
      "BFGS\n",
      "====Iteration 0  ====\n",
      "accuracy 0.287128712871\n",
      "confusion matrix\n",
      " [[11  8  7  4  0]\n",
      " [14 14 14 10  0]\n",
      " [10 19 21  7  4]\n",
      " [ 7  6 12 11  0]\n",
      " [ 0  1  9 12  1]]\n",
      "BFGS\n",
      "BFGS\n",
      "BFGS\n",
      "BFGS\n",
      "BFGS\n",
      "====Iteration 0  ====\n",
      "accuracy 0.336633663366\n",
      "confusion matrix\n",
      " [[15 11  9  2  0]\n",
      " [ 7 17 14  4  0]\n",
      " [ 6 16 22 13  6]\n",
      " [ 2 10 13 11  8]\n",
      " [ 0  2  8  3  3]]\n",
      "BFGS\n",
      "BFGS\n",
      "BFGS\n",
      "BFGS\n",
      "BFGS\n",
      "====Iteration 0  ====\n",
      "accuracy 0.331683168317\n",
      "confusion matrix\n",
      " [[23  7  6  4  1]\n",
      " [ 7 15 15 10  3]\n",
      " [ 3 13 15 17  5]\n",
      " [ 0  7 13 10 11]\n",
      " [ 0  1  8  4  4]]\n",
      "BFGS\n"
     ]
    },
    {
     "name": "stderr",
     "output_type": "stream",
     "text": [
      "/Users/rupalsanghavi/anaconda3/lib/python3.5/site-packages/ipykernel/__main__.py:10: RuntimeWarning: divide by zero encountered in log\n",
      "/Users/rupalsanghavi/anaconda3/lib/python3.5/site-packages/ipykernel/__main__.py:10: RuntimeWarning: divide by zero encountered in log\n",
      "/Users/rupalsanghavi/anaconda3/lib/python3.5/site-packages/ipykernel/__main__.py:10: RuntimeWarning: divide by zero encountered in log\n",
      "/Users/rupalsanghavi/anaconda3/lib/python3.5/site-packages/ipykernel/__main__.py:10: RuntimeWarning: divide by zero encountered in log\n"
     ]
    },
    {
     "name": "stdout",
     "output_type": "stream",
     "text": [
      "BFGS\n",
      "BFGS\n",
      "BFGS\n",
      "BFGS\n",
      "====Iteration 0  ====\n",
      "accuracy 0.371287128713\n",
      "confusion matrix\n",
      " [[19 10  4  4  0]\n",
      " [ 9 16 13  6  3]\n",
      " [ 6 11 27  8  2]\n",
      " [ 6  7 14 11  3]\n",
      " [ 0  2 12  7  2]]\n",
      "BFGS\n",
      "BFGS\n",
      "BFGS\n",
      "BFGS\n",
      "BFGS\n",
      "====Iteration 0  ====\n",
      "accuracy 0.386138613861\n",
      "confusion matrix\n",
      " [[18  7  7  3  0]\n",
      " [ 9 22 13  8  2]\n",
      " [ 5  5 27 12  8]\n",
      " [ 3  5 17  9  6]\n",
      " [ 2  0  6  6  2]]\n",
      "BFGS\n",
      "BFGS\n"
     ]
    },
    {
     "name": "stderr",
     "output_type": "stream",
     "text": [
      "/Users/rupalsanghavi/anaconda3/lib/python3.5/site-packages/ipykernel/__main__.py:10: RuntimeWarning: divide by zero encountered in log\n",
      "/Users/rupalsanghavi/anaconda3/lib/python3.5/site-packages/ipykernel/__main__.py:10: RuntimeWarning: divide by zero encountered in log\n",
      "/Users/rupalsanghavi/anaconda3/lib/python3.5/site-packages/ipykernel/__main__.py:10: RuntimeWarning: divide by zero encountered in log\n",
      "/Users/rupalsanghavi/anaconda3/lib/python3.5/site-packages/ipykernel/__main__.py:10: RuntimeWarning: divide by zero encountered in log\n"
     ]
    },
    {
     "name": "stdout",
     "output_type": "stream",
     "text": [
      "BFGS\n",
      "BFGS\n"
     ]
    },
    {
     "name": "stderr",
     "output_type": "stream",
     "text": [
      "/Users/rupalsanghavi/anaconda3/lib/python3.5/site-packages/ipykernel/__main__.py:10: RuntimeWarning: divide by zero encountered in log\n",
      "/Users/rupalsanghavi/anaconda3/lib/python3.5/site-packages/ipykernel/__main__.py:10: RuntimeWarning: divide by zero encountered in log\n",
      "/Users/rupalsanghavi/anaconda3/lib/python3.5/site-packages/ipykernel/__main__.py:10: RuntimeWarning: divide by zero encountered in log\n",
      "/Users/rupalsanghavi/anaconda3/lib/python3.5/site-packages/ipykernel/__main__.py:10: RuntimeWarning: divide by zero encountered in log\n"
     ]
    },
    {
     "name": "stdout",
     "output_type": "stream",
     "text": [
      "BFGS\n",
      "====Iteration 0  ====\n",
      "accuracy 0.405940594059\n",
      "confusion matrix\n",
      " [[23  7  6  1  3]\n",
      " [10 17 15  7  1]\n",
      " [ 4 13 26 12  3]\n",
      " [ 2  7 11 13  6]\n",
      " [ 0  1  5  6  3]]\n",
      "BFGS\n",
      "BFGS\n",
      "BFGS\n",
      "BFGS\n"
     ]
    },
    {
     "name": "stderr",
     "output_type": "stream",
     "text": [
      "/Users/rupalsanghavi/anaconda3/lib/python3.5/site-packages/ipykernel/__main__.py:10: RuntimeWarning: divide by zero encountered in log\n",
      "/Users/rupalsanghavi/anaconda3/lib/python3.5/site-packages/ipykernel/__main__.py:10: RuntimeWarning: divide by zero encountered in log\n",
      "/Users/rupalsanghavi/anaconda3/lib/python3.5/site-packages/ipykernel/__main__.py:10: RuntimeWarning: divide by zero encountered in log\n",
      "/Users/rupalsanghavi/anaconda3/lib/python3.5/site-packages/ipykernel/__main__.py:10: RuntimeWarning: divide by zero encountered in log\n"
     ]
    },
    {
     "name": "stdout",
     "output_type": "stream",
     "text": [
      "BFGS\n",
      "====Iteration 0  ====\n",
      "accuracy 0.326732673267\n",
      "confusion matrix\n",
      " [[18 11  9  3  1]\n",
      " [ 9 15 18  3  3]\n",
      " [ 5 19 24  9  3]\n",
      " [ 2  9  9  6  3]\n",
      " [ 1  1 10  8  3]]\n",
      "BFGS\n",
      "BFGS\n",
      "BFGS\n",
      "BFGS\n",
      "BFGS\n",
      "====Iteration 0  ====\n",
      "accuracy 0.316831683168\n",
      "confusion matrix\n",
      " [[ 7  7  8  3  0]\n",
      " [ 8 20 20  4  0]\n",
      " [ 6 13 22 15  5]\n",
      " [ 0  7 19 14  1]\n",
      " [ 0  1 12  9  1]]\n",
      "BFGS\n"
     ]
    },
    {
     "name": "stderr",
     "output_type": "stream",
     "text": [
      "/Users/rupalsanghavi/anaconda3/lib/python3.5/site-packages/ipykernel/__main__.py:10: RuntimeWarning: divide by zero encountered in log\n",
      "/Users/rupalsanghavi/anaconda3/lib/python3.5/site-packages/ipykernel/__main__.py:10: RuntimeWarning: divide by zero encountered in log\n",
      "/Users/rupalsanghavi/anaconda3/lib/python3.5/site-packages/ipykernel/__main__.py:10: RuntimeWarning: divide by zero encountered in log\n",
      "/Users/rupalsanghavi/anaconda3/lib/python3.5/site-packages/ipykernel/__main__.py:10: RuntimeWarning: divide by zero encountered in log\n",
      "/Users/rupalsanghavi/anaconda3/lib/python3.5/site-packages/ipykernel/__main__.py:10: RuntimeWarning: divide by zero encountered in log\n"
     ]
    },
    {
     "name": "stdout",
     "output_type": "stream",
     "text": [
      "BFGS\n",
      "BFGS\n"
     ]
    },
    {
     "name": "stderr",
     "output_type": "stream",
     "text": [
      "/Users/rupalsanghavi/anaconda3/lib/python3.5/site-packages/ipykernel/__main__.py:10: RuntimeWarning: divide by zero encountered in log\n",
      "/Users/rupalsanghavi/anaconda3/lib/python3.5/site-packages/ipykernel/__main__.py:10: RuntimeWarning: divide by zero encountered in log\n",
      "/Users/rupalsanghavi/anaconda3/lib/python3.5/site-packages/ipykernel/__main__.py:10: RuntimeWarning: divide by zero encountered in log\n"
     ]
    },
    {
     "name": "stdout",
     "output_type": "stream",
     "text": [
      "BFGS\n",
      "BFGS\n",
      "====Iteration 0  ====\n",
      "accuracy 0.40099009901\n",
      "confusion matrix\n",
      " [[19  8  6  4  0]\n",
      " [ 7 19 10  5  0]\n",
      " [ 4 20 31 10  2]\n",
      " [ 2  4 15 10  5]\n",
      " [ 0  2 11  6  2]]\n",
      "BFGS\n",
      "BFGS\n",
      "BFGS\n",
      "BFGS\n",
      "BFGS\n",
      "====Iteration 0  ====\n",
      "accuracy 0.267326732673\n",
      "confusion matrix\n",
      " [[ 8  8 12  6  1]\n",
      " [13 15 17  8  0]\n",
      " [ 8 17 18 18  1]\n",
      " [ 0  6 18 12  3]\n",
      " [ 0  3  7  2  1]]\n",
      "BFGS\n",
      "BFGS\n",
      "BFGS\n",
      "BFGS\n",
      "BFGS\n",
      "====Iteration 0  ====\n",
      "accuracy 0.341584158416\n",
      "confusion matrix\n",
      " [[15  6  5  2  0]\n",
      " [15 11 19  6  0]\n",
      " [ 3 13 32 11  3]\n",
      " [ 6  6 18 11  1]\n",
      " [ 1  1 12  5  0]]\n",
      "BFGS\n",
      "BFGS\n",
      "BFGS\n",
      "BFGS\n",
      "BFGS\n",
      "====Iteration 0  ====\n",
      "accuracy 0.346534653465\n",
      "confusion matrix\n",
      " [[18  8  9  5  0]\n",
      " [ 7 10 25  2  0]\n",
      " [ 2  9 31 12  0]\n",
      " [ 2  4 24 11  1]\n",
      " [ 1  1 16  4  0]]\n",
      "BFGS\n",
      "BFGS\n",
      "BFGS\n",
      "BFGS\n",
      "BFGS\n",
      "====Iteration 0  ====\n",
      "accuracy 0.341584158416\n",
      "confusion matrix\n",
      " [[13 12  9  2  0]\n",
      " [ 6 16 25  1  0]\n",
      " [ 7 13 33  9  1]\n",
      " [ 1  5 20  7  1]\n",
      " [ 2  1 15  3  0]]\n",
      "BFGS\n",
      "BFGS\n"
     ]
    },
    {
     "name": "stderr",
     "output_type": "stream",
     "text": [
      "/Users/rupalsanghavi/anaconda3/lib/python3.5/site-packages/ipykernel/__main__.py:10: RuntimeWarning: divide by zero encountered in log\n",
      "/Users/rupalsanghavi/anaconda3/lib/python3.5/site-packages/ipykernel/__main__.py:10: RuntimeWarning: divide by zero encountered in log\n",
      "/Users/rupalsanghavi/anaconda3/lib/python3.5/site-packages/ipykernel/__main__.py:10: RuntimeWarning: divide by zero encountered in log\n",
      "/Users/rupalsanghavi/anaconda3/lib/python3.5/site-packages/ipykernel/__main__.py:10: RuntimeWarning: divide by zero encountered in log\n"
     ]
    },
    {
     "name": "stdout",
     "output_type": "stream",
     "text": [
      "BFGS\n",
      "BFGS\n",
      "BFGS\n",
      "====Iteration 0  ====\n",
      "accuracy 0.316831683168\n",
      "confusion matrix\n",
      " [[15 10  5  1  2]\n",
      " [12 12 21  3  1]\n",
      " [ 8 13 28  5  3]\n",
      " [ 2 11 27  7  3]\n",
      " [ 1  2  8  0  2]]\n",
      "BFGS\n"
     ]
    },
    {
     "name": "stderr",
     "output_type": "stream",
     "text": [
      "/Users/rupalsanghavi/anaconda3/lib/python3.5/site-packages/ipykernel/__main__.py:10: RuntimeWarning: divide by zero encountered in log\n",
      "/Users/rupalsanghavi/anaconda3/lib/python3.5/site-packages/ipykernel/__main__.py:10: RuntimeWarning: divide by zero encountered in log\n",
      "/Users/rupalsanghavi/anaconda3/lib/python3.5/site-packages/ipykernel/__main__.py:10: RuntimeWarning: divide by zero encountered in log\n",
      "/Users/rupalsanghavi/anaconda3/lib/python3.5/site-packages/ipykernel/__main__.py:10: RuntimeWarning: divide by zero encountered in log\n"
     ]
    },
    {
     "name": "stdout",
     "output_type": "stream",
     "text": [
      "BFGS\n",
      "BFGS\n",
      "BFGS\n"
     ]
    },
    {
     "name": "stderr",
     "output_type": "stream",
     "text": [
      "/Users/rupalsanghavi/anaconda3/lib/python3.5/site-packages/ipykernel/__main__.py:10: RuntimeWarning: divide by zero encountered in log\n",
      "/Users/rupalsanghavi/anaconda3/lib/python3.5/site-packages/ipykernel/__main__.py:10: RuntimeWarning: divide by zero encountered in log\n",
      "/Users/rupalsanghavi/anaconda3/lib/python3.5/site-packages/ipykernel/__main__.py:10: RuntimeWarning: divide by zero encountered in log\n",
      "/Users/rupalsanghavi/anaconda3/lib/python3.5/site-packages/ipykernel/__main__.py:10: RuntimeWarning: divide by zero encountered in log\n",
      "/Users/rupalsanghavi/anaconda3/lib/python3.5/site-packages/ipykernel/__main__.py:10: RuntimeWarning: divide by zero encountered in log\n",
      "/Users/rupalsanghavi/anaconda3/lib/python3.5/site-packages/ipykernel/__main__.py:10: RuntimeWarning: divide by zero encountered in log\n",
      "/Users/rupalsanghavi/anaconda3/lib/python3.5/site-packages/ipykernel/__main__.py:10: RuntimeWarning: divide by zero encountered in log\n",
      "/Users/rupalsanghavi/anaconda3/lib/python3.5/site-packages/ipykernel/__main__.py:10: RuntimeWarning: divide by zero encountered in log\n"
     ]
    },
    {
     "name": "stdout",
     "output_type": "stream",
     "text": [
      "BFGS\n",
      "====Iteration 0  ====\n",
      "accuracy 0.316831683168\n",
      "confusion matrix\n",
      " [[11  9  8  1  0]\n",
      " [13 11 20  0  0]\n",
      " [15 14 34  7  1]\n",
      " [ 3 10 16  8  1]\n",
      " [ 1  1 13  5  0]]\n",
      "BFGS\n"
     ]
    },
    {
     "name": "stderr",
     "output_type": "stream",
     "text": [
      "/Users/rupalsanghavi/anaconda3/lib/python3.5/site-packages/ipykernel/__main__.py:10: RuntimeWarning: divide by zero encountered in log\n",
      "/Users/rupalsanghavi/anaconda3/lib/python3.5/site-packages/ipykernel/__main__.py:10: RuntimeWarning: divide by zero encountered in log\n",
      "/Users/rupalsanghavi/anaconda3/lib/python3.5/site-packages/ipykernel/__main__.py:10: RuntimeWarning: divide by zero encountered in log\n",
      "/Users/rupalsanghavi/anaconda3/lib/python3.5/site-packages/ipykernel/__main__.py:10: RuntimeWarning: divide by zero encountered in log\n"
     ]
    },
    {
     "name": "stdout",
     "output_type": "stream",
     "text": [
      "BFGS\n",
      "BFGS\n",
      "BFGS\n",
      "BFGS\n",
      "====Iteration 0  ====\n",
      "accuracy 0.361386138614\n",
      "confusion matrix\n",
      " [[16  6  8  2  0]\n",
      " [ 8  9 24  4  0]\n",
      " [ 9  4 43  8  2]\n",
      " [ 4  3 23  5  0]\n",
      " [ 1  0 19  4  0]]\n",
      "BFGS\n",
      "BFGS\n",
      "BFGS\n",
      "BFGS\n",
      "BFGS\n",
      "====Iteration 0  ====\n",
      "accuracy 0.326732673267\n",
      "confusion matrix\n",
      " [[12 19  9  0  0]\n",
      " [ 3 14 20  1  0]\n",
      " [ 8 12 36  4  3]\n",
      " [ 4  5 27  4  0]\n",
      " [ 2  1 16  2  0]]\n",
      "BFGS\n",
      "BFGS\n",
      "BFGS\n",
      "BFGS\n"
     ]
    },
    {
     "name": "stderr",
     "output_type": "stream",
     "text": [
      "/Users/rupalsanghavi/anaconda3/lib/python3.5/site-packages/ipykernel/__main__.py:10: RuntimeWarning: divide by zero encountered in log\n",
      "/Users/rupalsanghavi/anaconda3/lib/python3.5/site-packages/ipykernel/__main__.py:10: RuntimeWarning: divide by zero encountered in log\n",
      "/Users/rupalsanghavi/anaconda3/lib/python3.5/site-packages/ipykernel/__main__.py:10: RuntimeWarning: divide by zero encountered in log\n",
      "/Users/rupalsanghavi/anaconda3/lib/python3.5/site-packages/ipykernel/__main__.py:10: RuntimeWarning: divide by zero encountered in log\n"
     ]
    },
    {
     "name": "stdout",
     "output_type": "stream",
     "text": [
      "BFGS\n",
      "====Iteration 0  ====\n",
      "accuracy 0.321782178218\n",
      "confusion matrix\n",
      " [[16 19  8  1  0]\n",
      " [ 6 19 12  2  4]\n",
      " [ 6 15 25  5  1]\n",
      " [ 3  6 25  5  1]\n",
      " [ 2  2 19  0  0]]\n",
      "BFGS\n",
      "BFGS\n",
      "BFGS\n",
      "BFGS\n",
      "BFGS\n",
      "====Iteration 0  ====\n",
      "accuracy 0.356435643564\n",
      "confusion matrix\n",
      " [[14 13 12  1  0]\n",
      " [10 12 21  3  0]\n",
      " [10  7 43  3  0]\n",
      " [ 0  5 34  3  0]\n",
      " [ 0  1 10  0  0]]\n",
      "BFGS\n",
      "BFGS\n"
     ]
    },
    {
     "name": "stderr",
     "output_type": "stream",
     "text": [
      "/Users/rupalsanghavi/anaconda3/lib/python3.5/site-packages/ipykernel/__main__.py:10: RuntimeWarning: divide by zero encountered in log\n",
      "/Users/rupalsanghavi/anaconda3/lib/python3.5/site-packages/ipykernel/__main__.py:10: RuntimeWarning: divide by zero encountered in log\n",
      "/Users/rupalsanghavi/anaconda3/lib/python3.5/site-packages/ipykernel/__main__.py:10: RuntimeWarning: divide by zero encountered in log\n",
      "/Users/rupalsanghavi/anaconda3/lib/python3.5/site-packages/ipykernel/__main__.py:10: RuntimeWarning: divide by zero encountered in log\n"
     ]
    },
    {
     "name": "stdout",
     "output_type": "stream",
     "text": [
      "BFGS\n",
      "BFGS\n",
      "BFGS\n",
      "====Iteration 0  ====\n",
      "accuracy 0.257425742574\n",
      "confusion matrix\n",
      " [[12 13  5  2  0]\n",
      " [18 11 15  0  1]\n",
      " [22  7 26  2  0]\n",
      " [ 8  5 31  3  0]\n",
      " [ 4  2 15  0  0]]\n",
      "BFGS\n"
     ]
    },
    {
     "name": "stderr",
     "output_type": "stream",
     "text": [
      "/Users/rupalsanghavi/anaconda3/lib/python3.5/site-packages/ipykernel/__main__.py:10: RuntimeWarning: divide by zero encountered in log\n",
      "/Users/rupalsanghavi/anaconda3/lib/python3.5/site-packages/ipykernel/__main__.py:10: RuntimeWarning: divide by zero encountered in log\n"
     ]
    },
    {
     "name": "stdout",
     "output_type": "stream",
     "text": [
      "BFGS\n",
      "BFGS\n",
      "BFGS\n",
      "BFGS\n",
      "====Iteration 0  ====\n",
      "accuracy 0.252475247525\n",
      "confusion matrix\n",
      " [[17  0 11  2  0]\n",
      " [26  0 20  2  1]\n",
      " [21  0 30  8  0]\n",
      " [15  0 19  4  0]\n",
      " [ 7  0 17  2  0]]\n",
      "BFGS\n",
      "BFGS\n",
      "BFGS\n",
      "BFGS\n"
     ]
    },
    {
     "name": "stderr",
     "output_type": "stream",
     "text": [
      "/Users/rupalsanghavi/anaconda3/lib/python3.5/site-packages/ipykernel/__main__.py:10: RuntimeWarning: divide by zero encountered in log\n",
      "/Users/rupalsanghavi/anaconda3/lib/python3.5/site-packages/ipykernel/__main__.py:10: RuntimeWarning: divide by zero encountered in log\n",
      "/Users/rupalsanghavi/anaconda3/lib/python3.5/site-packages/ipykernel/__main__.py:10: RuntimeWarning: divide by zero encountered in log\n",
      "/Users/rupalsanghavi/anaconda3/lib/python3.5/site-packages/ipykernel/__main__.py:10: RuntimeWarning: divide by zero encountered in log\n",
      "/Users/rupalsanghavi/anaconda3/lib/python3.5/site-packages/ipykernel/__main__.py:10: RuntimeWarning: divide by zero encountered in log\n"
     ]
    },
    {
     "name": "stdout",
     "output_type": "stream",
     "text": [
      "BFGS\n"
     ]
    },
    {
     "name": "stderr",
     "output_type": "stream",
     "text": [
      "/Users/rupalsanghavi/anaconda3/lib/python3.5/site-packages/ipykernel/__main__.py:10: RuntimeWarning: divide by zero encountered in log\n",
      "/Users/rupalsanghavi/anaconda3/lib/python3.5/site-packages/ipykernel/__main__.py:10: RuntimeWarning: divide by zero encountered in log\n",
      "/Users/rupalsanghavi/anaconda3/lib/python3.5/site-packages/ipykernel/__main__.py:10: RuntimeWarning: divide by zero encountered in log\n",
      "/Users/rupalsanghavi/anaconda3/lib/python3.5/site-packages/ipykernel/__main__.py:10: RuntimeWarning: divide by zero encountered in log\n"
     ]
    },
    {
     "name": "stdout",
     "output_type": "stream",
     "text": [
      "====Iteration 0  ====\n",
      "accuracy 0.282178217822\n",
      "confusion matrix\n",
      " [[29  0  5  8  0]\n",
      " [35  0  4  9  0]\n",
      " [30  0 19 19  0]\n",
      " [10  0  9  9  0]\n",
      " [ 4  0  4  8  0]]\n",
      "BFGS\n",
      "BFGS\n",
      "BFGS\n"
     ]
    },
    {
     "name": "stderr",
     "output_type": "stream",
     "text": [
      "/Users/rupalsanghavi/anaconda3/lib/python3.5/site-packages/ipykernel/__main__.py:10: RuntimeWarning: divide by zero encountered in log\n",
      "/Users/rupalsanghavi/anaconda3/lib/python3.5/site-packages/ipykernel/__main__.py:10: RuntimeWarning: divide by zero encountered in log\n",
      "/Users/rupalsanghavi/anaconda3/lib/python3.5/site-packages/ipykernel/__main__.py:10: RuntimeWarning: divide by zero encountered in log\n",
      "/Users/rupalsanghavi/anaconda3/lib/python3.5/site-packages/ipykernel/__main__.py:10: RuntimeWarning: divide by zero encountered in log\n",
      "/Users/rupalsanghavi/anaconda3/lib/python3.5/site-packages/ipykernel/__main__.py:10: RuntimeWarning: divide by zero encountered in log\n",
      "/Users/rupalsanghavi/anaconda3/lib/python3.5/site-packages/ipykernel/__main__.py:10: RuntimeWarning: divide by zero encountered in log\n",
      "/Users/rupalsanghavi/anaconda3/lib/python3.5/site-packages/ipykernel/__main__.py:10: RuntimeWarning: divide by zero encountered in log\n",
      "/Users/rupalsanghavi/anaconda3/lib/python3.5/site-packages/ipykernel/__main__.py:10: RuntimeWarning: divide by zero encountered in log\n",
      "/Users/rupalsanghavi/anaconda3/lib/python3.5/site-packages/ipykernel/__main__.py:10: RuntimeWarning: divide by zero encountered in log\n",
      "/Users/rupalsanghavi/anaconda3/lib/python3.5/site-packages/ipykernel/__main__.py:10: RuntimeWarning: divide by zero encountered in log\n"
     ]
    },
    {
     "name": "stdout",
     "output_type": "stream",
     "text": [
      "BFGS\n",
      "BFGS\n",
      "====Iteration 0  ====\n",
      "accuracy 0.306930693069\n",
      "confusion matrix\n",
      " [[27  0  7  0  2]\n",
      " [27  0 19  4  2]\n",
      " [22  0 28  8  2]\n",
      " [15  0 18  6  3]\n",
      " [ 4  0  5  2  1]]\n",
      "BFGS\n"
     ]
    },
    {
     "name": "stderr",
     "output_type": "stream",
     "text": [
      "/Users/rupalsanghavi/anaconda3/lib/python3.5/site-packages/ipykernel/__main__.py:10: RuntimeWarning: divide by zero encountered in log\n",
      "/Users/rupalsanghavi/anaconda3/lib/python3.5/site-packages/ipykernel/__main__.py:10: RuntimeWarning: divide by zero encountered in log\n"
     ]
    },
    {
     "name": "stdout",
     "output_type": "stream",
     "text": [
      "BFGS\n",
      "BFGS\n",
      "BFGS\n",
      "BFGS\n",
      "====Iteration 0  ====\n",
      "accuracy 0.19801980198\n",
      "confusion matrix\n",
      " [[24  0  0  8  0]\n",
      " [28  0  1 24  0]\n",
      " [37  0  0 23  0]\n",
      " [14  0  3 16  0]\n",
      " [ 9  0  1 14  0]]\n",
      "BFGS\n"
     ]
    },
    {
     "name": "stderr",
     "output_type": "stream",
     "text": [
      "/Users/rupalsanghavi/anaconda3/lib/python3.5/site-packages/ipykernel/__main__.py:10: RuntimeWarning: divide by zero encountered in log\n",
      "/Users/rupalsanghavi/anaconda3/lib/python3.5/site-packages/ipykernel/__main__.py:10: RuntimeWarning: divide by zero encountered in log\n",
      "/Users/rupalsanghavi/anaconda3/lib/python3.5/site-packages/ipykernel/__main__.py:10: RuntimeWarning: divide by zero encountered in log\n",
      "/Users/rupalsanghavi/anaconda3/lib/python3.5/site-packages/ipykernel/__main__.py:10: RuntimeWarning: divide by zero encountered in log\n",
      "/Users/rupalsanghavi/anaconda3/lib/python3.5/site-packages/ipykernel/__main__.py:10: RuntimeWarning: divide by zero encountered in log\n",
      "/Users/rupalsanghavi/anaconda3/lib/python3.5/site-packages/ipykernel/__main__.py:10: RuntimeWarning: divide by zero encountered in log\n"
     ]
    },
    {
     "name": "stdout",
     "output_type": "stream",
     "text": [
      "BFGS\n",
      "BFGS\n",
      "BFGS\n",
      "BFGS\n"
     ]
    },
    {
     "name": "stderr",
     "output_type": "stream",
     "text": [
      "/Users/rupalsanghavi/anaconda3/lib/python3.5/site-packages/ipykernel/__main__.py:10: RuntimeWarning: divide by zero encountered in log\n",
      "/Users/rupalsanghavi/anaconda3/lib/python3.5/site-packages/ipykernel/__main__.py:10: RuntimeWarning: divide by zero encountered in log\n",
      "/Users/rupalsanghavi/anaconda3/lib/python3.5/site-packages/ipykernel/__main__.py:10: RuntimeWarning: divide by zero encountered in log\n",
      "/Users/rupalsanghavi/anaconda3/lib/python3.5/site-packages/ipykernel/__main__.py:10: RuntimeWarning: divide by zero encountered in log\n",
      "/Users/rupalsanghavi/anaconda3/lib/python3.5/site-packages/ipykernel/__main__.py:10: RuntimeWarning: divide by zero encountered in log\n",
      "/Users/rupalsanghavi/anaconda3/lib/python3.5/site-packages/ipykernel/__main__.py:10: RuntimeWarning: divide by zero encountered in log\n",
      "/Users/rupalsanghavi/anaconda3/lib/python3.5/site-packages/ipykernel/__main__.py:10: RuntimeWarning: divide by zero encountered in log\n"
     ]
    },
    {
     "name": "stdout",
     "output_type": "stream",
     "text": [
      "====Iteration 0  ====\n",
      "accuracy 0.277227722772\n",
      "confusion matrix\n",
      " [[25  0 12  2  0]\n",
      " [22  0 19  4  0]\n",
      " [21  0 18 15  2]\n",
      " [ 5  0 23 11  3]\n",
      " [ 3  0 11  4  2]]\n",
      "BFGS\n",
      "BFGS\n",
      "BFGS\n",
      "BFGS\n",
      "BFGS\n",
      "====Iteration 0  ====\n",
      "accuracy 0.212871287129\n",
      "confusion matrix\n",
      " [[27  0  1  6  0]\n",
      " [26  0  4 11  1]\n",
      " [43  0  0 14  7]\n",
      " [22  0  0 13  6]\n",
      " [ 7  0  0 11  3]]\n",
      "BFGS\n",
      "BFGS\n",
      "BFGS\n"
     ]
    },
    {
     "name": "stderr",
     "output_type": "stream",
     "text": [
      "/Users/rupalsanghavi/anaconda3/lib/python3.5/site-packages/ipykernel/__main__.py:10: RuntimeWarning: divide by zero encountered in log\n",
      "/Users/rupalsanghavi/anaconda3/lib/python3.5/site-packages/ipykernel/__main__.py:10: RuntimeWarning: divide by zero encountered in log\n",
      "/Users/rupalsanghavi/anaconda3/lib/python3.5/site-packages/ipykernel/__main__.py:10: RuntimeWarning: divide by zero encountered in log\n",
      "/Users/rupalsanghavi/anaconda3/lib/python3.5/site-packages/ipykernel/__main__.py:10: RuntimeWarning: divide by zero encountered in log\n",
      "/Users/rupalsanghavi/anaconda3/lib/python3.5/site-packages/ipykernel/__main__.py:10: RuntimeWarning: divide by zero encountered in log\n",
      "/Users/rupalsanghavi/anaconda3/lib/python3.5/site-packages/ipykernel/__main__.py:10: RuntimeWarning: divide by zero encountered in log\n",
      "/Users/rupalsanghavi/anaconda3/lib/python3.5/site-packages/ipykernel/__main__.py:10: RuntimeWarning: divide by zero encountered in log\n",
      "/Users/rupalsanghavi/anaconda3/lib/python3.5/site-packages/ipykernel/__main__.py:10: RuntimeWarning: divide by zero encountered in log\n",
      "/Users/rupalsanghavi/anaconda3/lib/python3.5/site-packages/ipykernel/__main__.py:10: RuntimeWarning: divide by zero encountered in log\n"
     ]
    },
    {
     "name": "stdout",
     "output_type": "stream",
     "text": [
      "BFGS\n",
      "BFGS\n",
      "====Iteration 0  ====\n",
      "accuracy 0.217821782178\n",
      "confusion matrix\n",
      " [[29  0  0  0  3]\n",
      " [38  0  1  2 10]\n",
      " [46  0  0  9 15]\n",
      " [14  0  2  6 10]\n",
      " [ 4  0  1  3  9]]\n",
      "BFGS\n"
     ]
    },
    {
     "name": "stderr",
     "output_type": "stream",
     "text": [
      "/Users/rupalsanghavi/anaconda3/lib/python3.5/site-packages/ipykernel/__main__.py:10: RuntimeWarning: divide by zero encountered in log\n",
      "/Users/rupalsanghavi/anaconda3/lib/python3.5/site-packages/ipykernel/__main__.py:10: RuntimeWarning: divide by zero encountered in log\n",
      "/Users/rupalsanghavi/anaconda3/lib/python3.5/site-packages/ipykernel/__main__.py:10: RuntimeWarning: divide by zero encountered in log\n",
      "/Users/rupalsanghavi/anaconda3/lib/python3.5/site-packages/ipykernel/__main__.py:10: RuntimeWarning: divide by zero encountered in log\n",
      "/Users/rupalsanghavi/anaconda3/lib/python3.5/site-packages/ipykernel/__main__.py:10: RuntimeWarning: divide by zero encountered in log\n",
      "/Users/rupalsanghavi/anaconda3/lib/python3.5/site-packages/ipykernel/__main__.py:10: RuntimeWarning: divide by zero encountered in log\n",
      "/Users/rupalsanghavi/anaconda3/lib/python3.5/site-packages/ipykernel/__main__.py:10: RuntimeWarning: divide by zero encountered in log\n"
     ]
    },
    {
     "name": "stdout",
     "output_type": "stream",
     "text": [
      "BFGS\n",
      "BFGS\n",
      "BFGS\n",
      "BFGS\n",
      "====Iteration 0  ====\n",
      "accuracy 0.212871287129\n",
      "confusion matrix\n",
      " [[27  0  7  1  0]\n",
      " [35  0  7  6  0]\n",
      " [44  0  7  8  2]\n",
      " [19  0  6  9  5]\n",
      " [ 4  0  8  7  0]]\n"
     ]
    },
    {
     "name": "stderr",
     "output_type": "stream",
     "text": [
      "/Users/rupalsanghavi/anaconda3/lib/python3.5/site-packages/ipykernel/__main__.py:10: RuntimeWarning: divide by zero encountered in log\n",
      "/Users/rupalsanghavi/anaconda3/lib/python3.5/site-packages/ipykernel/__main__.py:10: RuntimeWarning: divide by zero encountered in log\n",
      "/Users/rupalsanghavi/anaconda3/lib/python3.5/site-packages/ipykernel/__main__.py:10: RuntimeWarning: divide by zero encountered in log\n",
      "/Users/rupalsanghavi/anaconda3/lib/python3.5/site-packages/ipykernel/__main__.py:10: RuntimeWarning: divide by zero encountered in log\n",
      "/Users/rupalsanghavi/anaconda3/lib/python3.5/site-packages/ipykernel/__main__.py:10: RuntimeWarning: divide by zero encountered in log\n"
     ]
    },
    {
     "name": "stdout",
     "output_type": "stream",
     "text": [
      "BFGS\n",
      "BFGS\n",
      "BFGS\n",
      "BFGS\n"
     ]
    },
    {
     "name": "stderr",
     "output_type": "stream",
     "text": [
      "/Users/rupalsanghavi/anaconda3/lib/python3.5/site-packages/ipykernel/__main__.py:10: RuntimeWarning: divide by zero encountered in log\n",
      "/Users/rupalsanghavi/anaconda3/lib/python3.5/site-packages/ipykernel/__main__.py:10: RuntimeWarning: divide by zero encountered in log\n",
      "/Users/rupalsanghavi/anaconda3/lib/python3.5/site-packages/ipykernel/__main__.py:10: RuntimeWarning: divide by zero encountered in log\n",
      "/Users/rupalsanghavi/anaconda3/lib/python3.5/site-packages/ipykernel/__main__.py:10: RuntimeWarning: divide by zero encountered in log\n",
      "/Users/rupalsanghavi/anaconda3/lib/python3.5/site-packages/ipykernel/__main__.py:10: RuntimeWarning: divide by zero encountered in log\n",
      "/Users/rupalsanghavi/anaconda3/lib/python3.5/site-packages/ipykernel/__main__.py:10: RuntimeWarning: divide by zero encountered in log\n"
     ]
    },
    {
     "name": "stdout",
     "output_type": "stream",
     "text": [
      "BFGS\n",
      "====Iteration 0  ====\n",
      "accuracy 0.267326732673\n",
      "confusion matrix\n",
      " [[27  0  2  1  1]\n",
      " [39  0  3  3  1]\n",
      " [40  0 10  5  2]\n",
      " [23  0  5 11  5]\n",
      " [ 8  0  2  8  6]]\n",
      "BFGS\n"
     ]
    },
    {
     "name": "stderr",
     "output_type": "stream",
     "text": [
      "/Users/rupalsanghavi/anaconda3/lib/python3.5/site-packages/ipykernel/__main__.py:10: RuntimeWarning: divide by zero encountered in log\n",
      "/Users/rupalsanghavi/anaconda3/lib/python3.5/site-packages/ipykernel/__main__.py:10: RuntimeWarning: divide by zero encountered in log\n",
      "/Users/rupalsanghavi/anaconda3/lib/python3.5/site-packages/ipykernel/__main__.py:10: RuntimeWarning: divide by zero encountered in log\n",
      "/Users/rupalsanghavi/anaconda3/lib/python3.5/site-packages/ipykernel/__main__.py:10: RuntimeWarning: divide by zero encountered in log\n",
      "/Users/rupalsanghavi/anaconda3/lib/python3.5/site-packages/ipykernel/__main__.py:10: RuntimeWarning: divide by zero encountered in log\n",
      "/Users/rupalsanghavi/anaconda3/lib/python3.5/site-packages/ipykernel/__main__.py:10: RuntimeWarning: divide by zero encountered in log\n",
      "/Users/rupalsanghavi/anaconda3/lib/python3.5/site-packages/ipykernel/__main__.py:10: RuntimeWarning: divide by zero encountered in log\n",
      "/Users/rupalsanghavi/anaconda3/lib/python3.5/site-packages/ipykernel/__main__.py:10: RuntimeWarning: divide by zero encountered in log\n",
      "/Users/rupalsanghavi/anaconda3/lib/python3.5/site-packages/ipykernel/__main__.py:10: RuntimeWarning: divide by zero encountered in log\n"
     ]
    },
    {
     "name": "stdout",
     "output_type": "stream",
     "text": [
      "BFGS\n",
      "BFGS\n",
      "BFGS\n",
      "BFGS\n"
     ]
    },
    {
     "name": "stderr",
     "output_type": "stream",
     "text": [
      "/Users/rupalsanghavi/anaconda3/lib/python3.5/site-packages/ipykernel/__main__.py:10: RuntimeWarning: divide by zero encountered in log\n",
      "/Users/rupalsanghavi/anaconda3/lib/python3.5/site-packages/ipykernel/__main__.py:10: RuntimeWarning: divide by zero encountered in log\n",
      "/Users/rupalsanghavi/anaconda3/lib/python3.5/site-packages/ipykernel/__main__.py:10: RuntimeWarning: divide by zero encountered in log\n",
      "/Users/rupalsanghavi/anaconda3/lib/python3.5/site-packages/ipykernel/__main__.py:10: RuntimeWarning: divide by zero encountered in log\n",
      "/Users/rupalsanghavi/anaconda3/lib/python3.5/site-packages/ipykernel/__main__.py:10: RuntimeWarning: divide by zero encountered in log\n",
      "/Users/rupalsanghavi/anaconda3/lib/python3.5/site-packages/ipykernel/__main__.py:10: RuntimeWarning: divide by zero encountered in log\n",
      "/Users/rupalsanghavi/anaconda3/lib/python3.5/site-packages/ipykernel/__main__.py:10: RuntimeWarning: divide by zero encountered in log\n",
      "/Users/rupalsanghavi/anaconda3/lib/python3.5/site-packages/ipykernel/__main__.py:10: RuntimeWarning: divide by zero encountered in log\n",
      "/Users/rupalsanghavi/anaconda3/lib/python3.5/site-packages/ipykernel/__main__.py:10: RuntimeWarning: divide by zero encountered in log\n",
      "/Users/rupalsanghavi/anaconda3/lib/python3.5/site-packages/ipykernel/__main__.py:10: RuntimeWarning: divide by zero encountered in log\n",
      "/Users/rupalsanghavi/anaconda3/lib/python3.5/site-packages/ipykernel/__main__.py:10: RuntimeWarning: divide by zero encountered in log\n",
      "/Users/rupalsanghavi/anaconda3/lib/python3.5/site-packages/ipykernel/__main__.py:10: RuntimeWarning: divide by zero encountered in log\n",
      "/Users/rupalsanghavi/anaconda3/lib/python3.5/site-packages/ipykernel/__main__.py:10: RuntimeWarning: divide by zero encountered in log\n"
     ]
    },
    {
     "name": "stdout",
     "output_type": "stream",
     "text": [
      "====Iteration 0  ====\n",
      "accuracy 0.168316831683\n",
      "confusion matrix\n",
      " [[14  0  0 17  0]\n",
      " [18  0  0 30  0]\n",
      " [25  0  0 45  0]\n",
      " [14  0  0 20  0]\n",
      " [ 5  0  0 14  0]]\n",
      "BFGS\n",
      "BFGS\n",
      "BFGS\n"
     ]
    },
    {
     "name": "stderr",
     "output_type": "stream",
     "text": [
      "/Users/rupalsanghavi/anaconda3/lib/python3.5/site-packages/ipykernel/__main__.py:10: RuntimeWarning: divide by zero encountered in log\n",
      "/Users/rupalsanghavi/anaconda3/lib/python3.5/site-packages/ipykernel/__main__.py:10: RuntimeWarning: divide by zero encountered in log\n",
      "/Users/rupalsanghavi/anaconda3/lib/python3.5/site-packages/ipykernel/__main__.py:10: RuntimeWarning: divide by zero encountered in log\n",
      "/Users/rupalsanghavi/anaconda3/lib/python3.5/site-packages/ipykernel/__main__.py:10: RuntimeWarning: divide by zero encountered in log\n",
      "/Users/rupalsanghavi/anaconda3/lib/python3.5/site-packages/ipykernel/__main__.py:10: RuntimeWarning: divide by zero encountered in log\n",
      "/Users/rupalsanghavi/anaconda3/lib/python3.5/site-packages/ipykernel/__main__.py:10: RuntimeWarning: divide by zero encountered in log\n",
      "/Users/rupalsanghavi/anaconda3/lib/python3.5/site-packages/ipykernel/__main__.py:10: RuntimeWarning: divide by zero encountered in log\n"
     ]
    },
    {
     "name": "stdout",
     "output_type": "stream",
     "text": [
      "BFGS\n",
      "BFGS\n",
      "====Iteration 0  ====\n",
      "accuracy 0.237623762376\n",
      "confusion matrix\n",
      " [[25  0  0 12  0]\n",
      " [17  0  0 39  0]\n",
      " [16  0  0 44  0]\n",
      " [11  0  0 23  0]\n",
      " [ 3  0  0 12  0]]\n",
      "BFGS\n"
     ]
    },
    {
     "name": "stderr",
     "output_type": "stream",
     "text": [
      "/Users/rupalsanghavi/anaconda3/lib/python3.5/site-packages/ipykernel/__main__.py:10: RuntimeWarning: divide by zero encountered in log\n",
      "/Users/rupalsanghavi/anaconda3/lib/python3.5/site-packages/ipykernel/__main__.py:10: RuntimeWarning: divide by zero encountered in log\n",
      "/Users/rupalsanghavi/anaconda3/lib/python3.5/site-packages/ipykernel/__main__.py:10: RuntimeWarning: divide by zero encountered in log\n",
      "/Users/rupalsanghavi/anaconda3/lib/python3.5/site-packages/ipykernel/__main__.py:10: RuntimeWarning: divide by zero encountered in log\n"
     ]
    },
    {
     "name": "stdout",
     "output_type": "stream",
     "text": [
      "BFGS\n",
      "BFGS\n",
      "BFGS\n",
      "BFGS\n",
      "====Iteration 0  ====\n",
      "accuracy 0.217821782178\n",
      "confusion matrix\n",
      " [[18  0  0 19  0]\n",
      " [18  0  0 29  0]\n",
      " [26  0  0 35  0]\n",
      " [10  0  0 26  0]\n",
      " [ 6  0  0 15  0]]\n",
      "BFGS\n",
      "BFGS\n",
      "BFGS\n",
      "BFGS\n",
      "BFGS\n",
      "====Iteration 0  ====\n",
      "accuracy 0.138613861386\n",
      "confusion matrix\n",
      " [[28  0  0  0  0]\n",
      " [56  0  0  0  0]\n",
      " [61  0  0  0  0]\n",
      " [39  0  0  0  0]\n",
      " [18  0  0  0  0]]\n",
      "BFGS\n",
      "BFGS\n",
      "BFGS\n",
      "BFGS\n",
      "BFGS\n",
      "====Iteration 0  ====\n",
      "accuracy 0.188118811881\n",
      "confusion matrix\n",
      " [[ 0  0  0 34  0]\n",
      " [ 0  0  0 39  0]\n",
      " [ 0  0  0 73  0]\n",
      " [ 0  0  0 38  0]\n",
      " [ 0  0  0 18  0]]\n",
      "BFGS\n",
      "BFGS\n",
      "BFGS\n",
      "BFGS\n",
      "BFGS\n",
      "====Iteration 0  ====\n",
      "accuracy 0.153465346535\n",
      "confusion matrix\n",
      " [[ 0  0  0 40  0]\n",
      " [ 0  0  0 44  0]\n",
      " [ 0  0  0 66  0]\n",
      " [ 0  0  0 31  0]\n",
      " [ 0  0  0 21  0]]\n",
      "BFGS\n"
     ]
    },
    {
     "name": "stderr",
     "output_type": "stream",
     "text": [
      "/Users/rupalsanghavi/anaconda3/lib/python3.5/site-packages/ipykernel/__main__.py:10: RuntimeWarning: divide by zero encountered in log\n",
      "/Users/rupalsanghavi/anaconda3/lib/python3.5/site-packages/ipykernel/__main__.py:10: RuntimeWarning: divide by zero encountered in log\n",
      "/Users/rupalsanghavi/anaconda3/lib/python3.5/site-packages/ipykernel/__main__.py:10: RuntimeWarning: divide by zero encountered in log\n",
      "/Users/rupalsanghavi/anaconda3/lib/python3.5/site-packages/ipykernel/__main__.py:10: RuntimeWarning: divide by zero encountered in log\n",
      "/Users/rupalsanghavi/anaconda3/lib/python3.5/site-packages/ipykernel/__main__.py:10: RuntimeWarning: divide by zero encountered in log\n",
      "/Users/rupalsanghavi/anaconda3/lib/python3.5/site-packages/ipykernel/__main__.py:10: RuntimeWarning: divide by zero encountered in log\n"
     ]
    },
    {
     "name": "stdout",
     "output_type": "stream",
     "text": [
      "BFGS\n",
      "BFGS\n",
      "BFGS\n",
      "BFGS\n",
      "====Iteration 0  ====\n",
      "accuracy 0.108910891089\n",
      "confusion matrix\n",
      " [[22  0  0  0  0]\n",
      " [47  0  0  0  0]\n",
      " [69  0  0  0  0]\n",
      " [41  0  0  0  0]\n",
      " [23  0  0  0  0]]\n",
      "BFGS\n",
      "BFGS\n",
      "BFGS\n",
      "BFGS\n",
      "BFGS\n",
      "====Iteration 0  ====\n",
      "accuracy 0.20297029703\n",
      "confusion matrix\n",
      " [[ 0  0  0 39  0]\n",
      " [ 0  0  0 51  0]\n",
      " [ 0  0  0 55  0]\n",
      " [ 0  0  0 41  0]\n",
      " [ 0  0  0 16  0]]\n"
     ]
    },
    {
     "name": "stderr",
     "output_type": "stream",
     "text": [
      "/Users/rupalsanghavi/anaconda3/lib/python3.5/site-packages/ipykernel/__main__.py:10: RuntimeWarning: divide by zero encountered in log\n",
      "/Users/rupalsanghavi/anaconda3/lib/python3.5/site-packages/ipykernel/__main__.py:10: RuntimeWarning: divide by zero encountered in log\n"
     ]
    }
   ],
   "source": [
    "# run logistic regression and vary some parameters\n",
    "from sklearn import metrics as mt\n",
    "\n",
    "# first we create a reusable logisitic regression object\n",
    "#   here we can setup the object with different learning parameters and constants\n",
    "lr_clf_accuracies = []\n",
    "lr_clf_times = []\n",
    "\n",
    "costs = np.logspace(-3,1)\n",
    "costs.sort()\n",
    "\n",
    "cost_accuracies = []\n",
    "\n",
    "for cost in costs:\n",
    "    lr_clf = MultiClassLogisticRegression(eta=0.1,iterations=10, C=cost, optimization=\"BFGSBinaryLogisticRegression\") # get object\n",
    "\n",
    "\n",
    "    # now we can use the cv_object that we setup before to iterate through the \n",
    "    #    different training and testing sets. Each time we will reuse the logisitic regression \n",
    "    #    object, but it gets trained on different data each time we use it.\n",
    "\n",
    "    iter_num=0\n",
    "    # the indices are the rows used for training and testing in each iteration\n",
    "    for train_indices, test_indices in cv_object.split(X,y): \n",
    "        # I will create new variables here so that it is more obvious what \n",
    "        # the code is doing (you can compact this syntax and avoid duplicating memory,\n",
    "        # but it makes this code less readable)\n",
    "        X_train = (X[train_indices])\n",
    "        y_train = y[train_indices]\n",
    "\n",
    "    #     print(X_train)\n",
    "    #     print(y_train)\n",
    "\n",
    "        X_test = (X[test_indices])\n",
    "        y_test = y[test_indices]\n",
    "\n",
    "        st = time.time()\n",
    "        lr_clf.fit(X_train,y_train)  # train object\n",
    "        t = (time.time() -st)\n",
    "        lr_clf_times.append(t)\n",
    "\n",
    "        # train the reusable logisitc regression model on the training data\n",
    "        y_hat = lr_clf.predict(X_test) # get test set precitions\n",
    "\n",
    "        # now let's get the accuracy and confusion matrix for this iterations of training/testing\n",
    "        acc = mt.accuracy_score(y_test,y_hat+1)\n",
    "        lr_clf_accuracies.append(acc)\n",
    "        cost_accuracies.append([acc])\n",
    "\n",
    "        conf = mt.confusion_matrix(y_test,y_hat+1)\n",
    "        print(\"====Iteration\",iter_num,\" ====\")\n",
    "        print(\"accuracy\", acc )\n",
    "        print(\"confusion matrix\\n\",conf)\n",
    "        iter_num+=1\n",
    "    \n",
    "# Also note that every time you run the above code\n",
    "#   it randomly creates a new training and testing set, \n",
    "#   so accuracy will be different each time"
   ]
  },
  {
   "cell_type": "code",
   "execution_count": 154,
   "metadata": {
    "collapsed": false
   },
   "outputs": [
    {
     "name": "stdout",
     "output_type": "stream",
     "text": [
      "Line Search\n"
     ]
    },
    {
     "name": "stderr",
     "output_type": "stream",
     "text": [
      "/Users/rupalsanghavi/anaconda3/lib/python3.5/site-packages/ipykernel/__main__.py:12: RuntimeWarning: overflow encountered in exp\n"
     ]
    },
    {
     "name": "stdout",
     "output_type": "stream",
     "text": [
      "Line Search\n",
      "Line Search\n",
      "Line Search\n",
      "Line Search\n",
      "MultiClass Logistic Regression Object with coefficients:\n",
      "[[  4.31283931e-03   5.30485379e-02   1.32367529e-01  -9.15987139e-02\n",
      "    7.50613527e-02   1.17344859e-02   6.64919645e-02   7.66147264e-02\n",
      "   -3.87347143e-02   4.77353201e-02   1.64043537e-02  -8.56468225e-02\n",
      "    1.87591694e-02   1.43169110e-01   3.83700908e-02   4.57563902e-02\n",
      "    8.62218664e-02   7.57721182e-02  -1.05496927e-01   7.33191861e-02\n",
      "   -8.52564325e-02   1.01359296e-01  -2.42390035e-01   1.54758452e-01\n",
      "    1.99935484e-02  -8.94514596e-02   9.80836504e-02  -8.65771503e-03\n",
      "   -1.85073244e-01   6.32861911e-03   3.30465751e-03   8.29006442e-02\n",
      "    3.13285189e-01   3.08218050e-01   2.87769768e-01  -1.20035054e-02\n",
      "    1.02855768e-01   4.31763949e-02   1.88174985e-01   3.16016648e-01\n",
      "   -2.48102023e-01  -1.49922140e-01   3.75373272e-02   4.49518976e-02\n",
      "    4.98538339e-02  -1.73532709e-01   5.70874539e-01   2.93567569e-01\n",
      "    1.77422204e-01   1.95146982e-01  -1.74456095e-01   1.41445121e-01\n",
      "    2.63459085e-01   7.52544301e-02   7.56934040e-02   3.14279111e-01\n",
      "   -1.31575575e-01  -2.63027647e-01   1.73443837e-01   1.33672869e-01\n",
      "    2.57045424e-01   1.41673161e-01   2.89341542e-01  -1.91180976e-01\n",
      "   -3.01102679e-01  -1.48399540e-01  -2.70651973e-01  -3.48791229e-01\n",
      "   -2.74829997e-01  -4.34869791e-01  -3.35904310e-01  -7.04498159e-02\n",
      "   -4.46648671e-01   5.72730761e-02   3.12472145e-01   3.00451685e-01\n",
      "    1.16034654e-01   2.28051842e-01   1.17086278e-01  -7.02918480e-02\n",
      "    2.01745490e-01   2.07890274e-01  -9.48012684e-02  -1.36156217e-02\n",
      "    2.53304992e-01  -2.86272851e-01   2.15308189e-01  -3.48197652e-01\n",
      "    2.63569026e-01  -6.64748245e-02   3.89524800e-01  -1.29361783e-01\n",
      "    3.78849915e-02  -2.43484327e-01   1.25269928e-01   3.62696961e-02\n",
      "   -6.02803000e-02  -4.02834751e-01   7.15178941e-02  -2.88731125e-01\n",
      "   -4.90939723e-01   2.37227876e-01   1.95551390e-01   3.74526667e-03\n",
      "    7.04282680e-01   3.92486026e-02   8.73310305e-01  -1.34823803e-01\n",
      "    1.65859496e-01   6.31482112e-01   1.45037786e-01  -1.22599473e-01\n",
      "    2.21872378e-01   6.01946535e-01   4.00851736e-02   4.78893329e-01\n",
      "   -1.42133131e+00  -8.41443886e-02  -2.56231787e-01   3.89974350e-01\n",
      "    6.34397093e-01   7.25876826e-02   2.81649137e-01  -7.96000151e-02\n",
      "   -1.05698994e-01   6.13864791e-01   8.06028228e-02  -1.30116705e-01\n",
      "   -1.14955729e-01   9.94479774e-02   2.59549012e-01   3.51792471e-01\n",
      "    2.36495175e-01   8.17376819e-02   2.09486324e-01   2.61177134e-01\n",
      "    1.85249134e+00   8.11444638e-01   1.46633201e-01   1.22371798e-01\n",
      "    1.30842637e-02  -3.02066510e-02  -9.56001658e-02   4.31026222e-02\n",
      "    1.18984947e-02  -4.99128948e-02   1.06723802e-01  -8.95411709e-02\n",
      "   -9.89811864e-03   2.41635398e-02   1.43563952e-02  -6.09561978e-03\n",
      "   -3.26054763e-02   2.51605864e-02   5.11900915e-02  -6.83701207e-02\n",
      "   -4.15639786e-03  -8.86107090e-02   9.13000148e-02   2.69880820e-02\n",
      "   -1.79494617e-02   1.03892758e-02   1.29433241e-02  -5.97425632e-04\n",
      "   -7.77057369e-03   2.73032300e-02  -3.68256768e-02  -3.65243651e-02\n",
      "    4.33959805e-02  -7.10101709e-02   8.09012203e-02  -8.94352362e-03\n",
      "    1.86628215e-02]\n",
      " [ -3.01422196e-04  -2.09203016e-03   4.43853784e-02  -3.49159408e-02\n",
      "    4.47910272e-02   3.34551505e-02   3.62727473e-02  -2.83085306e-02\n",
      "   -6.66601100e-02  -1.33709791e-01  -7.56108312e-02  -9.20314308e-02\n",
      "   -1.37664444e-02   2.64247664e-02   6.66517922e-02   7.64393253e-03\n",
      "   -1.75656909e-01   1.07346259e-01   4.15773358e-02  -4.71986692e-03\n",
      "    4.17266236e-03  -3.10115608e-02   4.62697295e-02  -6.23678322e-02\n",
      "   -1.21528271e-02  -8.60166885e-03   2.78483646e-02   1.32697983e-01\n",
      "    4.17014395e-02  -3.38441881e-02   1.42734911e-01  -3.91815540e-02\n",
      "   -8.84201582e-02  -6.88836097e-02   2.18803366e-01  -1.21193203e-02\n",
      "    5.00867224e-02  -7.25848754e-02  -9.00333443e-02   1.92191396e-02\n",
      "    2.81560174e-03  -2.13805359e-02  -1.34376443e-01  -9.55541605e-02\n",
      "    7.39888091e-02   3.17322990e-02   5.41095869e-04  -8.37432615e-02\n",
      "   -3.36253984e-04  -5.74134789e-04   9.84470862e-02   6.51725468e-02\n",
      "    8.39320525e-03   3.67139556e-03  -4.55428996e-02  -6.95083143e-03\n",
      "   -1.76124583e-03  -3.48898625e-02  -3.47925363e-02  -4.25116910e-03\n",
      "    7.33939258e-02  -5.07806152e-03  -4.31777908e-02   1.53247008e-02\n",
      "   -2.62416488e-02  -1.57625384e-02  -1.13682630e-01  -4.98491342e-02\n",
      "   -6.63834354e-02  -3.87480397e-02  -2.60137671e-02  -7.55271090e-02\n",
      "   -5.00622572e-02  -3.57254512e-02   5.23437263e-02  -1.08685136e-01\n",
      "    5.16688554e-02   3.38170391e-02  -1.93906295e-02   1.00885290e-02\n",
      "   -8.44452877e-03  -5.62823727e-02   1.17423023e-01   1.24859133e-01\n",
      "   -9.07016270e-02  -3.30986030e-02  -7.24275666e-02  -5.66802264e-02\n",
      "    2.51903817e-02  -1.05924963e-02  -9.25159446e-03  -9.41108043e-02\n",
      "   -4.83026258e-04   1.06721971e-01   6.16914312e-02   5.03974633e-02\n",
      "   -5.97638441e-02   3.39367733e-04  -1.20022789e-02  -4.17335827e-02\n",
      "   -9.84628687e-02   5.25720954e-02  -8.84745702e-02  -3.45865644e-02\n",
      "   -2.70403468e-02   2.35130167e-02   1.80482391e-02  -8.17843882e-02\n",
      "    1.38663313e-01   2.54629018e-02   7.67712653e-02   9.13166914e-02\n",
      "   -1.12253393e-01   1.80834345e-02  -2.00709805e-02  -1.03951198e-02\n",
      "   -2.65478951e-01   6.99328819e-02   2.95701443e-02  -9.94459399e-02\n",
      "   -2.82393356e-02  -1.80447916e-02   3.89566018e-03   3.51394867e-02\n",
      "   -9.26199264e-02  -9.45334258e-03  -7.14497743e-02   2.58824502e-02\n",
      "   -1.12402239e-01   9.46876748e-02  -3.27388420e-03  -2.73975072e-02\n",
      "    7.59993055e-03  -6.55555006e-02  -3.29191593e-02  -8.19043602e-03\n",
      "    3.42606980e-02  -3.31366444e-02  -3.51811266e-02  -8.74676227e-02\n",
      "   -2.05747245e-02   1.09881440e-02   8.20756485e-02  -2.38403214e-02\n",
      "    3.64584342e-02  -2.57596614e-02   4.36885580e-02  -5.48522836e-02\n",
      "    8.73848703e-03  -4.22662521e-02  -3.11635638e-03   1.62241412e-02\n",
      "    2.63119386e-02   5.59428434e-02  -6.71995424e-02   7.89475408e-03\n",
      "    2.95188938e-03   2.00467327e-02  -2.17680465e-02  -6.48750752e-03\n",
      "    9.90777079e-03  -6.90653570e-03  -1.45474133e-02   6.29254174e-03\n",
      "    3.30750321e-03   2.97685820e-02  -2.38823471e-02   2.27319517e-02\n",
      "   -2.08527514e-02   1.30057979e-02  -7.19585392e-03   4.72184548e-02\n",
      "   -4.18280154e-02]\n",
      " [  2.97738686e-03  -1.93665208e-02  -2.87782132e-02  -4.71906757e-02\n",
      "    6.55374421e-02  -7.88168605e-06  -1.99952864e-02  -1.83351641e-02\n",
      "    1.84018410e-02   8.02023587e-02  -2.56830972e-02   6.84059459e-03\n",
      "   -2.34460113e-02  -2.01360990e-01  -1.49596412e-02  -1.33111263e-02\n",
      "    9.24165064e-02  -8.08216988e-02  -4.99586738e-02  -5.89916936e-02\n",
      "    1.02360374e-01  -2.01960023e-02   1.38020173e-01   2.81044097e-03\n",
      "    3.37468884e-03   1.23935792e-02  -6.10063115e-03  -1.10648372e-01\n",
      "    6.29845567e-02   9.42292116e-02  -4.44721232e-03   3.87405496e-02\n",
      "   -3.53397196e-02  -1.32323233e-02  -7.33553780e-02   3.68722536e-02\n",
      "   -1.56768998e-02   1.67241222e-02  -3.30672036e-02  -4.71667606e-02\n",
      "    4.41781121e-02   6.19239853e-02   6.12594908e-02   7.71559507e-02\n",
      "   -4.55813972e-02   1.59629872e-02  -1.58504827e-02  -4.92590270e-03\n",
      "   -3.29561017e-02  -8.89211988e-02   6.17122956e-02   1.59359986e-02\n",
      "   -3.32643711e-02  -4.90296868e-02   9.15322311e-02  -4.32679701e-02\n",
      "    3.04169412e-03   8.21399267e-02   2.40368792e-02   3.81731511e-04\n",
      "   -1.06207765e-01   2.71820928e-02  -2.16561993e-02  -8.19136446e-03\n",
      "    4.90322632e-02   8.86994234e-02   7.03790853e-02   5.41376489e-02\n",
      "   -5.52428059e-02   5.40670453e-02   2.89137064e-02  -3.09245554e-02\n",
      "    1.05784203e-02  -2.00838231e-02  -1.48960160e-02   5.71204244e-02\n",
      "   -5.40347134e-03  -6.73586855e-02   4.81243847e-02   1.52429700e-03\n",
      "   -7.71827340e-02  -3.55760664e-02  -8.32890905e-03  -4.94595746e-02\n",
      "    2.44502821e-02  -8.65202790e-03  -6.36891372e-02   5.41875589e-02\n",
      "    1.24080576e-01  -1.30364538e-02   3.41471819e-02  -1.48036348e-02\n",
      "    2.83797939e-02  -5.83475698e-02  -3.03117491e-02  -2.66431070e-03\n",
      "    6.28872862e-02  -5.79134772e-02  -5.51459606e-02   9.27918421e-02\n",
      "    1.08953778e-01  -4.66389330e-02  -1.88711228e-02   1.15916310e-01\n",
      "    2.37096905e-02   1.25598357e-01  -7.24053675e-02  -1.01681086e-02\n",
      "   -6.12945112e-02  -3.03978041e-02  -1.12194798e-01  -1.24468963e-01\n",
      "   -7.00243790e-03  -7.80349553e-02  -1.63121912e-02   2.87262313e-02\n",
      "    1.67975140e-01  -7.54629435e-02   1.22788616e-02   3.12217828e-02\n",
      "    1.75753760e-02   7.88800714e-02  -6.13784402e-03   2.74183763e-02\n",
      "    3.30514090e-02  -8.80156005e-03  -3.88560880e-02  -2.13930641e-02\n",
      "    1.04988362e-01  -3.20924770e-02   9.88599390e-03  -1.16117538e-02\n",
      "    1.02682626e-01   2.69126586e-02  -6.25233392e-02  -4.99418810e-02\n",
      "    1.76067118e-02  -5.84254137e-02   1.29252848e-02   2.23290048e-02\n",
      "   -3.48615328e-03  -4.32404203e-02   3.53944606e-02  -2.40534972e-02\n",
      "   -2.70778530e-02   5.53304683e-02  -3.91272095e-02   7.90150735e-02\n",
      "   -3.41064025e-02  -1.10623385e-02  -1.50553571e-02  -6.41254942e-03\n",
      "    3.84510886e-02  -7.58851249e-03  -2.01206439e-02   3.05448934e-02\n",
      "    1.13416821e-04  -5.37260448e-03   2.06103855e-02  -3.49661231e-02\n",
      "    2.61907499e-02   2.25645679e-02   7.49643533e-03  -3.95901821e-03\n",
      "   -1.57166415e-02  -5.43615450e-02   4.83514613e-02  -2.39567804e-02\n",
      "    2.40539473e-02   2.13666781e-02  -1.74441489e-02  -3.43892254e-02\n",
      "    2.77091011e-02]\n",
      " [ -1.13823238e-02  -9.47017210e-02  -8.57157567e-02   5.12728514e-02\n",
      "   -1.12466103e-01  -5.86370545e-02  -6.05140399e-02   6.57421630e-02\n",
      "    5.64742384e-02  -5.07029032e-02   6.74559808e-02   4.52295990e-02\n",
      "    9.14572399e-02   8.49785109e-02  -1.11937461e-02   9.72088376e-02\n",
      "   -4.00191897e-02   2.05507040e-02   3.31766806e-03   1.26869439e-01\n",
      "   -1.21418388e-01  -7.45120498e-02  -9.52379287e-02  -1.36292597e-01\n",
      "   -9.16549046e-02   3.39076353e-02  -5.21460795e-02  -1.07555647e-01\n",
      "   -1.41469972e-01  -4.88488121e-02  -9.90916834e-02  -9.09714468e-02\n",
      "   -1.30420825e-02  -2.18794943e-02  -1.41403774e-01  -7.27884769e-02\n",
      "   -8.50371156e-03  -5.98872231e-02   3.82541564e-02  -9.65983036e-02\n",
      "   -3.28080551e-03  -4.46207017e-02   1.80393587e-03   9.21669692e-03\n",
      "    1.83946599e-02   6.10240809e-03  -1.05660906e-01   4.99209817e-02\n",
      "   -7.42868861e-02  -5.72857778e-02  -1.62900758e-01  -8.50944578e-02\n",
      "    1.02516695e-02   1.11732725e-02  -8.24079644e-02   1.13161309e-02\n",
      "    1.03593661e-02   1.60452175e-02  -1.24172914e-01   1.59809107e-02\n",
      "   -3.48503620e-02  -8.98641176e-02   4.98118079e-02   8.39916056e-02\n",
      "    9.26373350e-04  -6.66267399e-02   4.81762926e-02   3.01942508e-02\n",
      "    6.52796545e-02   8.32844755e-02   9.63536838e-02   1.67075099e-02\n",
      "    6.38830100e-02   3.32072513e-02  -1.55180344e-01  -4.43119163e-02\n",
      "   -8.27087434e-02  -1.49832214e-02  -1.21650145e-01   4.87783334e-03\n",
      "    2.68799133e-03  -4.55008694e-02  -2.98870422e-02  -4.86175827e-02\n",
      "   -4.40096126e-02   6.30681552e-02  -1.40641732e-02  -3.37669437e-02\n",
      "   -1.94179088e-01  -7.81420067e-02  -2.13585613e-01   2.65702132e-02\n",
      "   -6.29302364e-02  -1.24860727e-02  -1.54501372e-02  -1.57303066e-02\n",
      "   -2.81810143e-02   4.50009713e-02   5.52080035e-02   9.61869076e-02\n",
      "   -1.17362333e-01  -1.67176028e-01  -7.06149691e-02  -5.05591140e-02\n",
      "   -1.35101298e-01  -1.48560756e-01  -1.75790701e-01   3.22505744e-02\n",
      "   -1.09678384e-01  -7.41239591e-02   7.34013716e-02   7.04706043e-02\n",
      "    4.12225683e-02  -1.99218627e-02  -5.12604292e-02  -1.30692159e-01\n",
      "    2.55017761e-01   1.47738984e-02  -9.75085395e-02  -3.75416052e-02\n",
      "   -7.71731369e-02   2.67343511e-03  -8.65850889e-02  -1.08290149e-01\n",
      "    1.59780214e-04  -1.01856844e-01   2.59758796e-02  -1.37170612e-02\n",
      "   -1.43500786e-02  -5.09741703e-02  -6.48816311e-02  -1.26832410e-02\n",
      "   -9.01002983e-02   3.56444829e-02   1.89848928e-02  -1.67330298e-01\n",
      "   -1.66335968e+00  -6.34875179e-01  -3.31619401e-02   1.21187352e-02\n",
      "    9.62184651e-03   9.91586936e-03  -4.88620347e-02   2.27787858e-02\n",
      "    2.39119394e-02  -5.27709570e-02  -9.46679644e-03  -4.39438316e-02\n",
      "    3.55684112e-02   4.00276097e-02  -1.16469483e-02   9.09822022e-03\n",
      "   -4.78236685e-02  -2.84072617e-02   3.83134315e-02  -1.72870758e-02\n",
      "   -4.12096443e-03  -1.61010748e-02   1.35898029e-03   3.60764792e-02\n",
      "   -4.43274395e-02  -2.37553148e-02   2.85387256e-03  -1.70584659e-04\n",
      "    4.20523364e-02  -1.35603665e-03  -2.95059350e-02   1.18202150e-02\n",
      "   -2.69083834e-02  -1.00466284e-02  -9.51356755e-03  -1.95183406e-03\n",
      "   -1.21996678e-02]\n",
      " [  5.43989703e-03   1.69797388e-01  -4.19437764e-02   2.59799280e-01\n",
      "   -1.25644172e-01   3.56477402e-02  -5.82400383e-03  -1.45254516e-01\n",
      "   -5.14017401e-02   1.21675814e-01   1.34693113e-01   2.76129820e-01\n",
      "   -9.13537943e-02   2.16106811e-01  -1.10395927e-01  -2.79064034e-01\n",
      "    2.00776932e-01  -1.75918332e-01   2.38713930e-01  -1.25939548e-01\n",
      "    5.60272849e-02   1.94934815e-01   3.33930499e-02   1.68091397e-01\n",
      "    1.46558604e-01   1.30520045e-02  -1.22891944e-02   1.97275008e-01\n",
      "    2.64541695e-01  -7.53191799e-02  -9.26382856e-02   9.58545778e-02\n",
      "    7.39351804e-02  -2.02901356e-02  -1.93803141e-01   1.42692620e-01\n",
      "   -2.03464188e-01   1.83742282e-01   6.62292231e-02   1.27980397e-01\n",
      "   -3.33852335e-02  -1.02697446e-01   1.17191652e-01   7.19370862e-02\n",
      "   -5.85628966e-02  -1.18776515e-01  -3.39730776e-01  -2.28558875e-01\n",
      "    2.50121248e-01   2.76446069e-01   3.06147557e-01  -1.30957030e-01\n",
      "   -2.39949044e-01   1.29474544e-01  -3.31271425e-02  -1.52282114e-01\n",
      "    1.24279368e-01   7.93498213e-02   4.33603129e-02  -2.22243072e-01\n",
      "   -6.12389899e-02   9.30268750e-02  -4.16331799e-02  -1.19146052e-01\n",
      "    2.17530590e-01  -5.79352784e-02   2.03760090e-01   1.15447077e-01\n",
      "    2.92082244e-01   9.88552121e-02   6.36683188e-02   2.48081362e-01\n",
      "    4.31375816e-01   1.73457005e-02  -9.96909551e-02  -2.42817574e-01\n",
      "   -1.49082938e-02  -1.00479750e-01   9.05126431e-02   9.01254875e-02\n",
      "   -3.52771054e-02   1.04012939e-01  -4.85713176e-02   5.27790743e-02\n",
      "   -3.01326179e-02   2.22438498e-01   1.92200620e-01   3.24977558e-01\n",
      "   -1.35006666e-01   3.96071457e-01  -6.28490358e-02   2.83319637e-01\n",
      "    1.01711605e-01   1.56571475e-01  -5.59671850e-02  -2.15917072e-01\n",
      "    7.47786421e-02   4.73751302e-01   3.83029468e-02  -1.67982148e-02\n",
      "    7.92022690e-01   1.81549497e-01   1.51842675e-01  -3.69957659e-02\n",
      "   -4.67494536e-01  -1.01959019e-01  -4.00730145e-01   2.77668121e-01\n",
      "   -2.52748480e-02  -4.20968941e-01  -1.51628936e-01   7.43667187e-02\n",
      "   -7.71653666e-02  -4.43253357e-01   4.33362638e-02  -2.53770465e-01\n",
      "    1.38325697e+00   4.60378886e-02   2.69276336e-01  -1.93694316e-01\n",
      "   -4.48927069e-01  -2.22741337e-01  -1.08927594e-01   1.62314227e-01\n",
      "    2.40579635e-01  -2.56330367e-01   1.13873828e-01   2.17673022e-01\n",
      "    1.13693078e-02  -1.04623244e-01  -1.51386464e-01  -1.76430221e-01\n",
      "   -2.67915224e-01   2.23187236e-02   2.26518624e-02  -7.17801206e-03\n",
      "   -5.86714152e-01  -3.56070407e-01  -7.81753753e-02  -4.74384965e-02\n",
      "    3.74969177e-02   5.49183511e-02  -3.15035742e-02   3.20514372e-02\n",
      "   -6.85044510e-02   4.74053677e-02  -1.11501779e-01   8.87425073e-02\n",
      "    2.93298268e-02  -1.00464750e-02   6.38489958e-02  -2.09798661e-02\n",
      "   -2.63770901e-02  -7.10292142e-02   2.69921344e-02   3.66049035e-02\n",
      "    1.17799889e-02   1.16868092e-01  -1.29707618e-01  -4.45548015e-02\n",
      "    5.48092466e-02   2.89419687e-03  -1.85032469e-02  -5.38351797e-03\n",
      "   -2.34996692e-02   3.17676215e-02   1.87542213e-02   4.95935392e-02\n",
      "   -4.29611423e-02   5.04331526e-02  -5.63302903e-02   2.29430823e-02\n",
      "   -1.22594913e-02]]\n",
      "Accuracy of:  0.175247524752\n",
      "CPU times: user 24.3 s, sys: 386 ms, total: 24.7 s\n",
      "Wall time: 6.24 s\n"
     ]
    }
   ],
   "source": [
    "%%time\n",
    "lr = MultiClassLogisticRegression(eta=0.1,iterations=10,C=0.02)\n",
    "lr.fit(X,y)\n",
    "print(lr)\n",
    "\n",
    "yhat = lr.predict(X)\n",
    "print('Accuracy of: ',accuracy_score(y,yhat+1))"
   ]
  },
  {
   "cell_type": "code",
   "execution_count": 155,
   "metadata": {
    "collapsed": false
   },
   "outputs": [
    {
     "name": "stdout",
     "output_type": "stream",
     "text": [
      "Accuracy of:  0.610891089109\n",
      "CPU times: user 593 ms, sys: 6.62 ms, total: 600 ms\n",
      "Wall time: 152 ms\n"
     ]
    }
   ],
   "source": [
    "%%time\n",
    "from sklearn.linear_model import LogisticRegression as SKLogisticRegression\n",
    "\n",
    "lr_sk = SKLogisticRegression(solver='lbfgs')#,max_iter=100,C=0.005) \n",
    "lr_sk.fit(X,y)\n",
    "#print(np.hstack((lr_sk.intercept_[:,np.newaxis],lr_sk.coef_)))\n",
    "yhat = lr_sk.predict(X)\n",
    "print('Accuracy of: ',accuracy_score(y,yhat))\n"
   ]
  },
  {
   "cell_type": "code",
   "execution_count": null,
   "metadata": {
    "collapsed": true
   },
   "outputs": [],
   "source": []
  },
  {
   "cell_type": "code",
   "execution_count": 164,
   "metadata": {
    "collapsed": false
   },
   "outputs": [
    {
     "name": "stdout",
     "output_type": "stream",
     "text": [
      "Iterations  [100 100 100 100 100]\n",
      "====Iteration 0  ====\n",
      "accuracy 0.331683168317\n",
      "confusion matrix\n",
      " [[ 0  0 33  0  0]\n",
      " [ 0  0 51  0  0]\n",
      " [ 0  0 67  0  0]\n",
      " [ 0  0 34  0  0]\n",
      " [ 0  0 17  0  0]]\n",
      "[0.1393580436706543]\n"
     ]
    }
   ],
   "source": [
    "# run logistic regression and vary some parameters\n",
    "from sklearn import metrics as mt\n",
    "\n",
    "# first we create a reusable logisitic regression object\n",
    "#   here we can setup the object with different learning parameters and constants\n",
    "\n",
    "\n",
    "lr_sk = SKLogisticRegression(solver='lbfgs')#,max_iter=100,C=0.005) \n",
    "\n",
    "lr_sk_accuracies = []\n",
    "lr_sk_times = []\n",
    "# now we can use the cv_object that we setup before to iterate through the \n",
    "#    different training and testing sets. Each time we will reuse the logisitic regression \n",
    "#    object, but it gets trained on different data each time we use it.\n",
    "\n",
    "iter_num=0\n",
    "# the indices are the rows used for training and testing in each iteration\n",
    "for train_indices, test_indices in cv_object.split(X,y): \n",
    "    # I will create new variables here so that it is more obvious what \n",
    "    # the code is doing (you can compact this syntax and avoid duplicating memory,\n",
    "    # but it makes this code less readable)\n",
    "    X_train = X[train_indices]\n",
    "    y_train = y[train_indices]\n",
    "    \n",
    "#     print(X_train)\n",
    "#     print(y_train)\n",
    "    \n",
    "    X_test = X[test_indices]\n",
    "    y_test = y[test_indices]\n",
    "    \n",
    "    # train the reusable logisitc regression model on the training data\n",
    "    st = time.time()\n",
    "    lr_sk.fit(X_train,y_train)\n",
    "    t = (time.time() -st)\n",
    "    lr_sk_times.append(t)\n",
    "    #print(np.hstack((lr_sk.intercept_[:,np.newaxis],lr_sk.coef_)))\n",
    "    yhat = lr_sk.predict(X_test)\n",
    " \n",
    "    print(\"Iterations \",lr_sk.n_iter_)\n",
    "    # now let's get the accuracy and confusion matrix for this iterations of training/testing\n",
    "    acc = mt.accuracy_score(y_test,y_hat)\n",
    "    lr_sk_accuracies.append(acc)\n",
    "    conf = mt.confusion_matrix(y_test,y_hat)\n",
    "    print(\"====Iteration\",iter_num,\" ====\")\n",
    "    print(\"accuracy\", acc )\n",
    "    print(\"confusion matrix\\n\",conf)\n",
    "    iter_num+=1\n",
    "\n",
    "print(lr_sk_times)\n",
    "# Also note that every time you run the above code\n",
    "#   it randomly creates a new training and testing set, \n",
    "#   so accuracy will be different each time"
   ]
  },
  {
   "cell_type": "code",
   "execution_count": 157,
   "metadata": {
    "collapsed": false
   },
   "outputs": [
    {
     "name": "stdout",
     "output_type": "stream",
     "text": [
      "20.535588264465332\n"
     ]
    },
    {
     "data": {
      "image/png": "[encoded data removed]",
      "text/plain": [
       "<matplotlib.figure.Figure at 0x11788d470>"
      ]
     },
     "metadata": {},
     "output_type": "display_data"
    },
    {
     "data": {
      "text/plain": [
       "<matplotlib.figure.Figure at 0x11c7d27b8>"
      ]
     },
     "metadata": {},
     "output_type": "display_data"
    }
   ],
   "source": [
    "plt.boxplot([lr_sk_accuracies,lr_clf_accuracies])\n",
    "plt.title(\"Comparing Accuracies\")\n",
    "plt.xlabel('Implementation of Logistic Regression')\n",
    "plt.xticks([1,2],['SKL','OURS'])\n",
    "plt.figure()\n",
    "print((time.time() -st)*100)\n",
    "# ax = fig.add_subplot(111)\n"
   ]
  },
  {
   "cell_type": "code",
   "execution_count": 158,
   "metadata": {
    "collapsed": false,
    "scrolled": false
   },
   "outputs": [
    {
     "data": {
      "text/plain": [
       "<matplotlib.figure.Figure at 0x11788df60>"
      ]
     },
     "execution_count": 158,
     "metadata": {},
     "output_type": "execute_result"
    },
    {
     "data": {
      "image/png": "[encoded data removed]",
      "text/plain": [
       "<matplotlib.figure.Figure at 0x1178ad978>"
      ]
     },
     "metadata": {},
     "output_type": "display_data"
    },
    {
     "data": {
      "text/plain": [
       "<matplotlib.figure.Figure at 0x11788df60>"
      ]
     },
     "metadata": {},
     "output_type": "display_data"
    }
   ],
   "source": [
    "plt.boxplot([lr_sk_times,lr_clf_times])\n",
    "plt.title(\"Comparing Training Times\")\n",
    "plt.xlabel('Implementation of Logistic Regression')\n",
    "plt.ylabel('Training Time (seconds) ')\n",
    "plt.xticks([1,2],['SKL','OURS'])\n",
    "plt.figure()"
   ]
  },
  {
   "cell_type": "code",
   "execution_count": 161,
   "metadata": {
    "collapsed": false
   },
   "outputs": [
    {
     "data": {
      "text/plain": [
       "<matplotlib.figure.Figure at 0x117b7fc18>"
      ]
     },
     "execution_count": 161,
     "metadata": {},
     "output_type": "execute_result"
    },
    {
     "data": {
      "image/png": "[encoded data removed]",
      "text/plain": [
       "<matplotlib.figure.Figure at 0x117b73438>"
      ]
     },
     "metadata": {},
     "output_type": "display_data"
    },
    {
     "data": {
      "text/plain": [
       "<matplotlib.figure.Figure at 0x117b7fc18>"
      ]
     },
     "metadata": {},
     "output_type": "display_data"
    }
   ],
   "source": [
    "li = [np.arange(1,51)]\n",
    "plt.plot(cost_accuracies)\n",
    "plt.title(\"Determining Optimal Value of Regularization Term C\")\n",
    "plt.xlabel('Value of C ')\n",
    "plt.ylabel('Accuracy (%) ')\n",
    "costs_plot = np.around(costs,decimals=2)\n",
    "plt.xticks(li[0],costs_plot, rotation=90)\n",
    "plt.figure()"
   ]
  },
  {
   "cell_type": "code",
   "execution_count": 162,
   "metadata": {
    "collapsed": false
   },
   "outputs": [
    {
     "ename": "AttributeError",
     "evalue": "'numpy.float64' object has no attribute 'format'",
     "output_type": "error",
     "traceback": [
      "\u001b[0;31m---------------------------------------------------------------------------\u001b[0m",
      "\u001b[0;31mAttributeError\u001b[0m                            Traceback (most recent call last)",
      "\u001b[0;32m<ipython-input-162-58e0de847007>\u001b[0m in \u001b[0;36m<module>\u001b[0;34m()\u001b[0m\n\u001b[0;32m----> 1\u001b[0;31m \u001b[0;34m[\u001b[0m\u001b[0mcost\u001b[0m\u001b[0;34m.\u001b[0m\u001b[0mformat\u001b[0m\u001b[0;34m(\u001b[0m\u001b[0mround\u001b[0m\u001b[0;34m(\u001b[0m\u001b[0ma\u001b[0m\u001b[0;34m,\u001b[0m\u001b[0;36m2\u001b[0m\u001b[0;34m)\u001b[0m \u001b[0;32mfor\u001b[0m \u001b[0mcost\u001b[0m \u001b[0;32min\u001b[0m \u001b[0mcost_accuracies\u001b[0m\u001b[0;34m)\u001b[0m\u001b[0;34m]\u001b[0m\u001b[0;34m\u001b[0m\u001b[0m\n\u001b[0m",
      "\u001b[0;31mAttributeError\u001b[0m: 'numpy.float64' object has no attribute 'format'"
     ]
    }
   ],
   "source": [
    "[cost.format(round(a,2) for cost in cost_accuracies)]"
   ]
  },
  {
   "cell_type": "code",
   "execution_count": null,
   "metadata": {
    "collapsed": false
   },
   "outputs": [],
   "source": [
    "cost_accuracies = np.around(cost_accuracies,decimals=2)"
   ]
  },
  {
   "cell_type": "code",
   "execution_count": null,
   "metadata": {
    "collapsed": false
   },
   "outputs": [],
   "source": [
    "print(costs)"
   ]
  },
  {
   "cell_type": "code",
   "execution_count": null,
   "metadata": {
    "collapsed": true
   },
   "outputs": [],
   "source": []
  }
 ],
 "metadata": {
  "anaconda-cloud": {},
  "kernelspec": {
   "display_name": "Python [conda root]",
   "language": "python",
   "name": "conda-root-py"
  },
  "language_info": {
   "codemirror_mode": {
    "name": "ipython",
    "version": 3
   },
   "file_extension": ".py",
   "mimetype": "text/x-python",
   "name": "python",
   "nbconvert_exporter": "python",
   "pygments_lexer": "ipython3",
   "version": "3.5.2"
  }
 },
 "nbformat": 4,
 "nbformat_minor": 1
}
