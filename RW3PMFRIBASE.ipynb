{
 "cells": [
  {
   "cell_type": "code",
   "execution_count": 126,
   "metadata": {
    "collapsed": false
   },
   "outputs": [
    {
     "name": "stdout",
     "output_type": "stream",
     "text": [
      "The memory_profiler extension is already loaded. To reload it, use:\n",
      "  %reload_ext memory_profiler\n"
     ]
    }
   ],
   "source": [
    "import pandas as pd\n",
    "import numpy as np\n",
    "import matplotlib.pyplot as plt\n",
    "import warnings\n",
    "warnings.simplefilter('ignore', DeprecationWarning)\n",
    "%matplotlib inline \n",
    "%load_ext memory_profiler\n",
    "from sklearn.metrics import accuracy_score\n",
    "from scipy.special import expit\n",
    "import time\n",
    "\n",
    "\n",
    "df = pd.read_csv('responses.csv', sep=\",\")"
   ]
  },
  {
   "cell_type": "code",
   "execution_count": 127,
   "metadata": {
    "collapsed": true
   },
   "outputs": [],
   "source": [
    "# change NaN number values to the mean\n",
    "df_imputed = df.fillna(df.median())\n",
    "# get categorical features\n",
    "object_features = list(df.select_dtypes(include=['object']).columns)\n",
    "# one hot encode categorical features\n",
    "one_hot_df = pd.concat([pd.get_dummies(df_imputed[col],prefix=col) for col in object_features], axis=1)\n",
    "# drop object features from imputed dataframe\n",
    "df_imputed_dropped = df_imputed.drop(object_features, 1)\n",
    "frames = [df_imputed_dropped, one_hot_df]\n",
    "# concatenate both frames by columns\n",
    "df_fixed = pd.concat(frames, axis=1)"
   ]
  },
  {
   "cell_type": "code",
   "execution_count": 128,
   "metadata": {
    "collapsed": false
   },
   "outputs": [
    {
     "name": "stdout",
     "output_type": "stream",
     "text": [
      "ShuffleSplit(n_splits=3, random_state=None, test_size=0.2, train_size=None)\n"
     ]
    }
   ],
   "source": [
    "from sklearn.model_selection import ShuffleSplit\n",
    "\n",
    "# we want to predict the X and y data as follows:\n",
    "if 'Fear of public speaking' in df_fixed:\n",
    "    y = df_fixed['Fear of public speaking'].values # get the labels we want\n",
    "    del df_fixed['Fear of public speaking'] # get rid of the class label\n",
    "    X = expit(df_fixed.values) # use everything else to predict!\n",
    "\n",
    "num_cv_iterations = 3\n",
    "num_instances = len(y)\n",
    "cv_object = ShuffleSplit(\n",
    "                         n_splits=num_cv_iterations,\n",
    "                         test_size  = 0.2)\n",
    "                         \n",
    "print(cv_object)"
   ]
  },
  {
   "cell_type": "code",
   "execution_count": 129,
   "metadata": {
    "collapsed": false
   },
   "outputs": [
    {
     "name": "stdout",
     "output_type": "stream",
     "text": [
      "CPU times: user 32 µs, sys: 0 ns, total: 32 µs\n",
      "Wall time: 36 µs\n"
     ]
    }
   ],
   "source": [
    "%%time\n",
    "# from last time, our logistic regression algorithm is given by (including everything we previously had):\n",
    "class BinaryLogisticRegression:\n",
    "    def __init__(self, eta, iterations=20, C=0.001):\n",
    "        self.eta = eta\n",
    "        self.iters = iterations\n",
    "        self.C = C\n",
    "        # internally we will store the weights as self.w_ to keep with sklearn conventions\n",
    "        \n",
    "    def __str__(self):\n",
    "        if(hasattr(self,'w_')):\n",
    "            return 'Binary Logistic Regression Object with coefficients:\\n'+ str(self.w_) # is we have trained the object\n",
    "        else:\n",
    "            return 'Untrained Binary Logistic Regression Object'\n",
    "        \n",
    "    # convenience, private:\n",
    "    @staticmethod\n",
    "    def _add_bias(X):\n",
    "        return np.hstack((np.ones((X.shape[0],1)),X)) # add bias term\n",
    "    \n",
    "    @staticmethod\n",
    "    def _sigmoid(theta):\n",
    "        # increase stability, redefine sigmoid operation\n",
    "        return expit(theta) #1/(1+np.exp(-theta))\n",
    "    \n",
    "    # vectorized gradient calculation with regularization using L2 Norm\n",
    "    def _get_gradient(self,X,y):\n",
    "        ydiff = y-self.predict_proba(X,add_bias=False).ravel() # get y difference\n",
    "        gradient = np.mean(X * ydiff[:,np.newaxis], axis=0) # make ydiff a column vector and multiply through\n",
    "        \n",
    "        gradient = gradient.reshape(self.w_.shape)\n",
    "        gradient[1:] += 2 * self.w_[1:] * self.C\n",
    "        \n",
    "        return gradient\n",
    "    \n",
    "    # public:\n",
    "    def predict_proba(self,X,add_bias=True):\n",
    "        # add bias term if requested\n",
    "        Xb = self._add_bias(X) if add_bias else X\n",
    "        return self._sigmoid(Xb @ self.w_) # return the probability y=1\n",
    "    \n",
    "    def predict(self,X):\n",
    "        return (self.predict_proba(X)>0.5) #return the actual prediction\n",
    "    \n",
    "    \n",
    "    def fit(self, X, y):\n",
    "        Xb = self._add_bias(X) # add bias term\n",
    "        num_samples, num_features = Xb.shape\n",
    "        \n",
    "        self.w_ = np.zeros((num_features,1)) # init weight vector to zeros\n",
    "        \n",
    "        # for as many as the max iterations\n",
    "        for _ in range(self.iters):\n",
    "            gradient = self._get_gradient(Xb,y)\n",
    "            self.w_ += gradient*self.eta # multiply by learning rate \n",
    "\n",
    "# blr = BinaryLogisticRegression(eta=0.1,iterations=500,C=0.001)\n",
    "\n",
    "# blr.fit(X,y)\n",
    "# print(blr)\n",
    "\n",
    "# yhat = blr.predict(X)\n",
    "# print('Accuracy of: ',accuracy_score(y,yhat+1))"
   ]
  },
  {
   "cell_type": "code",
   "execution_count": 130,
   "metadata": {
    "collapsed": false
   },
   "outputs": [
    {
     "name": "stdout",
     "output_type": "stream",
     "text": [
      "CPU times: user 37 µs, sys: 0 ns, total: 37 µs\n",
      "Wall time: 40.1 µs\n"
     ]
    }
   ],
   "source": [
    "%%time\n",
    "from numpy.linalg import pinv\n",
    "class HessianBinaryLogisticRegression(BinaryLogisticRegression):\n",
    "    # just overwrite gradient function\n",
    "    def _get_gradient(self,X,y):\n",
    "        g = self.predict_proba(X,add_bias=False).ravel() # get sigmoid value for all classes\n",
    "        hessian = X.T @ np.diag(g*(1-g)) @ X + 2 * self.C # calculate the hessian\n",
    "\n",
    "        ydiff = y-g # get y difference\n",
    "        gradient = np.sum(X * ydiff[:,np.newaxis], axis=0) # make ydiff a column vector and multiply through\n",
    "        gradient = gradient.reshape(self.w_.shape)\n",
    "        gradient[1:] += 2 * self.w_[1:] * self.C\n",
    "        \n",
    "        return pinv(hessian) @ gradient\n",
    "       \n",
    "# hlr = HessianBinaryLogisticRegression(eta=0.1,iterations=20,C=0.1) # note that we need only a few iterations here\n",
    "\n",
    "# hlr.fit(X,y)\n",
    "# yhat = hlr.predict(X)\n",
    "# print(hlr)\n",
    "# print('Accuracy of: ',accuracy_score(y,yhat+1))"
   ]
  },
  {
   "cell_type": "code",
   "execution_count": 131,
   "metadata": {
    "collapsed": false
   },
   "outputs": [
    {
     "name": "stdout",
     "output_type": "stream",
     "text": [
      "CPU times: user 61 µs, sys: 4 µs, total: 65 µs\n",
      "Wall time: 76.1 µs\n"
     ]
    }
   ],
   "source": [
    "%%time\n",
    "# and we can update this to use a line search along the gradient like this:\n",
    "from scipy.optimize import minimize_scalar\n",
    "from scipy.optimize import OptimizeResult\n",
    "\n",
    "import copy\n",
    "class LineSearchLogisticRegression(BinaryLogisticRegression):\n",
    "    \n",
    "    # define custom line search for problem\n",
    "    @staticmethod\n",
    "    def line_search_function(eta,X,y,w,grad):\n",
    "        wnew = w + grad*eta\n",
    "        yhat = (1/(1+np.exp(-X @ wnew)))>0.5\n",
    "        return np.sum((y-yhat)**2)+np.sum(wnew**2)\n",
    "    @staticmethod\n",
    "    def line_search_function_l1(eta,X,y,w,grad):\n",
    "        if(math.sin(w) < 0 ):\n",
    "            w -=1\n",
    "        elif(math.sin(w) > 0):\n",
    "            w += 1\n",
    "        else:\n",
    "            w = w\n",
    "        wnew = w + grad*eta\n",
    "        yhat = (1/(1+np.exp(-X @ wnew)))>0.5\n",
    "        return np.sum((y-yhat)**2)+np.sum(math.fabs(wnew))\n",
    "    \n",
    "    def fit(self, X, y):\n",
    "        Xb = self._add_bias(X) # add bias term\n",
    "        num_samples, num_features = Xb.shape\n",
    "        \n",
    "        self.w_ = np.zeros((num_features,1)) # init weight vector to zeros\n",
    "        \n",
    "        # for as many as the max iterations\n",
    "        for _ in range(self.iters):\n",
    "            gradient = self._get_gradient(Xb,y)\n",
    "            \n",
    "            # do line search in gradient direction, using scipy function\n",
    "            opts = {'maxiter':self.iters/20} # unclear exactly what this should be\n",
    "            res = minimize_scalar(self.line_search_function, # objective function to optimize\n",
    "                                  bounds=(self.eta/1000,self.eta*10), #bounds to optimize\n",
    "                                  args=(Xb,y,self.w_,gradient), # additional argument for objective function\n",
    "                                  method='bounded', # bounded optimization for speed\n",
    "                                  options=opts) # set max iterations\n",
    "            \n",
    "            eta = res.x # get optimal learning rate\n",
    "            self.w_ += gradient*eta # set new function values\n",
    "                \n",
    "            \n",
    "\n",
    "# lslr = LineSearchLogisticRegression(eta=0.1,iterations=110, C=0.001)\n",
    "\n",
    "# lslr.fit(X,y)\n",
    "\n",
    "# yhat = lslr.predict(X)\n",
    "# print(lslr)\n",
    "# print('Accuracy of: ',accuracy_score(y,yhat))         "
   ]
  },
  {
   "cell_type": "code",
   "execution_count": 132,
   "metadata": {
    "collapsed": false
   },
   "outputs": [
    {
     "name": "stdout",
     "output_type": "stream",
     "text": [
      "CPU times: user 43 µs, sys: 1 µs, total: 44 µs\n",
      "Wall time: 47.9 µs\n"
     ]
    }
   ],
   "source": [
    "%%time\n",
    "class StochasticLogisticRegression(BinaryLogisticRegression):\n",
    "    # stochastic gradient calculation \n",
    "    def _get_gradient(self,X,y):\n",
    "        idx = int(np.random.rand()*len(y)) # grab random instance\n",
    "        ydiff = y[idx]-self.predict_proba(X[idx],add_bias=False) # get y difference (now scalar)\n",
    "        gradient = X[idx] * ydiff[:,np.newaxis] # make ydiff a column vector and multiply through\n",
    "        \n",
    "        gradient = gradient.reshape(self.w_.shape)\n",
    "        gradient[1:] += 2 * self.w_[1:] * self.C\n",
    "        \n",
    "        return gradient\n",
    "    \n",
    "    \n",
    "# slr = StochasticLogisticRegression(0.1,1000, C=0.001) # take a lot more steps!!\n",
    "\n",
    "# slr.fit(X,y)\n",
    "\n",
    "# yhat = slr.predict(X)\n",
    "# print(slr)\n",
    "# print('Accuracy of: ',accuracy_score(y,yhat))      "
   ]
  },
  {
   "cell_type": "code",
   "execution_count": 133,
   "metadata": {
    "collapsed": false
   },
   "outputs": [
    {
     "name": "stdout",
     "output_type": "stream",
     "text": [
      "CPU times: user 38 µs, sys: 1 µs, total: 39 µs\n",
      "Wall time: 41 µs\n"
     ]
    }
   ],
   "source": [
    "%%time\n",
    "# for this, we won't perform our own BFGS implementation \n",
    "# (it takes a good deal of code and understanding of the algorithm)\n",
    "# luckily for us, scipy has its own BFGS implementation:\n",
    "from scipy.optimize import fmin_bfgs\n",
    "class BFGSBinaryLogisticRegression(BinaryLogisticRegression):\n",
    "    \n",
    "    @staticmethod\n",
    "    def objective_function(w,X,y,C):\n",
    "        g = expit(X @ w)\n",
    "        return -np.sum(np.log(g[y==1]))-np.sum(np.log(1-g[y==0])) + C*sum(w**2) #-np.sum(y*np.log(g)+(1-y)*np.log(1-g))\n",
    "\n",
    "    @staticmethod\n",
    "    def objective_gradient(w,X,y,C):\n",
    "        g = expit(X @ w)\n",
    "        ydiff = y-g # get y difference\n",
    "        gradient = np.mean(X * ydiff[:,np.newaxis], axis=0)\n",
    "        gradient = gradient.reshape(w.shape)\n",
    "        gradient[1:] += 2 * w[1:] * C\n",
    "        return -gradient\n",
    "    \n",
    "    # just overwrite fit function\n",
    "    def fit(self, X, y):\n",
    "        Xb = self._add_bias(X) # add bias term\n",
    "        num_samples, num_features = Xb.shape\n",
    "        \n",
    "        self.w_ = fmin_bfgs(self.objective_function, # what to optimize\n",
    "                            np.zeros((num_features,1)), # starting point\n",
    "                            fprime=self.objective_gradient, # gradient function\n",
    "                            args=(Xb,y,self.C), # extra args for gradient and objective function\n",
    "                            gtol=1e-03, # stopping criteria for gradient, |v_k|\n",
    "                            maxiter=self.iters, # stopping criteria iterations\n",
    "                            disp=False)\n",
    "        self.w_ = self.w_.reshape((num_features,1))\n",
    "            \n",
    "# bfgslr = BFGSBinaryLogisticRegression(_,2) # note that we need only a few iterations here\n",
    "\n",
    "# bfgslr.fit(X,y)\n",
    "# yhat = bfgslr.predict(X)\n",
    "# print(bfgslr)\n",
    "# print('Accuracy of: ',accuracy_score(y,yhat+1))"
   ]
  },
  {
   "cell_type": "code",
   "execution_count": 134,
   "metadata": {
    "collapsed": false
   },
   "outputs": [],
   "source": [
    "class MultiClassLogisticRegression:\n",
    "    def __init__(self, eta, iterations=20, C=0.0001, optimization=None):\n",
    "        self.eta = eta\n",
    "        self.iters = iterations\n",
    "        self.C = C\n",
    "        self.classifiers_ = []\n",
    "        self.optimization = optimization\n",
    "        # internally we will store the weights as self.w_ to keep with sklearn conventions\n",
    "    \n",
    "    def __str__(self):\n",
    "        if(hasattr(self,'w_')):\n",
    "            return 'MultiClass Logistic Regression Object with coefficients:\\n'+ str(self.w_) # is we have trained the object\n",
    "        else:\n",
    "            return 'Untrained MultiClass Logistic Regression Object'\n",
    "        \n",
    "    def fit(self,X,y):\n",
    "        num_samples, num_features = X.shape\n",
    "        self.unique_ = np.sort(np.unique(y)) # get each unique class value\n",
    "        num_unique_classes = len(self.unique_)\n",
    "        self.classifiers_ = []\n",
    "        for i,yval in enumerate(self.unique_): # for each unique value\n",
    "            y_binary = y==yval # create a binary problem\n",
    "            # train the binary classifier for this class\n",
    "            #hblr = HessianBinaryLogisticRegression(self.eta,self.iters,self.C)\n",
    "            if(self.optimization == \"BFGSBinaryLogisticRegression\"):\n",
    "                hblr = BFGSBinaryLogisticRegression(self.eta,self.iters,self.C)\n",
    "            elif(self.optimization == \"StochasticLogisticRegression\"):\n",
    "                hblr = StochasticLogisticRegression(self.eta,self.iters,self.C)\n",
    "            else:\n",
    "                hblr = LineSearchLogisticRegression(self.eta,self.iters,self.C)\n",
    "\n",
    "            hblr.fit(X,y_binary)\n",
    "            #print(accuracy(y_binary,hblr.predict(X)))\n",
    "            # add the trained classifier to the list\n",
    "            self.classifiers_.append(hblr)\n",
    "            \n",
    "        # save all the weights into one matrix, separate column for each class\n",
    "        self.w_ = np.hstack([x.w_ for x in self.classifiers_]).T\n",
    "        \n",
    "    def predict_proba(self,X):\n",
    "        probs = []\n",
    "        for hblr in self.classifiers_:\n",
    "            probs.append(hblr.predict_proba(X).reshape((len(X),1))) # get probability for each classifier\n",
    "        \n",
    "        return np.hstack(probs) # make into single matrix\n",
    "    \n",
    "    def predict(self,X):\n",
    "        return np.argmax(self.predict_proba(X),axis=1) # take argmax along row\n",
    "    \n",
    "\n"
   ]
  },
  {
   "cell_type": "code",
   "execution_count": 135,
   "metadata": {
    "collapsed": false
   },
   "outputs": [
    {
     "name": "stdout",
     "output_type": "stream",
     "text": [
      "====Iteration 0  ====\n",
      "accuracy 0.336633663366\n",
      "confusion matrix\n",
      " [[ 0  0 39  0  0]\n",
      " [ 0  0 44  0  0]\n",
      " [ 0  0 68  0  0]\n",
      " [ 0  0 34  0  0]\n",
      " [ 0  0 17  0  0]]\n",
      "====Iteration 1  ====\n",
      "accuracy 0.311881188119\n",
      "confusion matrix\n",
      " [[ 0  0 37  0  0]\n",
      " [ 0  0 42  0  0]\n",
      " [ 0  0 63  0  0]\n",
      " [ 0  0 44  0  0]\n",
      " [ 0  0 16  0  0]]\n",
      "====Iteration 2  ====\n",
      "accuracy 0.336633663366\n",
      "confusion matrix\n",
      " [[ 0  0 30  0  0]\n",
      " [ 0  0 44  0  0]\n",
      " [ 0  0 68  0  0]\n",
      " [ 0  0 43  0  0]\n",
      " [ 0  0 17  0  0]]\n"
     ]
    }
   ],
   "source": [
    "# run logistic regression and vary some parameters\n",
    "from sklearn import metrics as mt\n",
    "\n",
    "# first we create a reusable logisitic regression object\n",
    "#   here we can setup the object with different learning parameters and constants\n",
    "\n",
    "\n",
    "lr_clf = MultiClassLogisticRegression(eta=0.1,iterations=2500, C=0.006, optimization=\"BFGSBinaryLogisticRegression\") # get object\n",
    "lr_clf_accuracies = []\n",
    "lr_clf_times = []\n",
    "# now we can use the cv_object that we setup before to iterate through the \n",
    "#    different training and testing sets. Each time we will reuse the logisitic regression \n",
    "#    object, but it gets trained on different data each time we use it.\n",
    "\n",
    "iter_num=0\n",
    "# the indices are the rows used for training and testing in each iteration\n",
    "for train_indices, test_indices in cv_object.split(X,y): \n",
    "    # I will create new variables here so that it is more obvious what \n",
    "    # the code is doing (you can compact this syntax and avoid duplicating memory,\n",
    "    # but it makes this code less readable)\n",
    "    X_train = expit(X[train_indices])\n",
    "    y_train = y[train_indices]\n",
    "    \n",
    "#     print(X_train)\n",
    "#     print(y_train)\n",
    "    \n",
    "    X_test = expit(X[test_indices])\n",
    "    y_test = y[test_indices]\n",
    "    \n",
    "    st = time.time()\n",
    "    lr_clf.fit(X_train,y_train)  # train object\n",
    "    t = (time.time() -st)\n",
    "    lr_clf_times.append(t)\n",
    "    \n",
    "    # train the reusable logisitc regression model on the training data\n",
    "    y_hat = lr_clf.predict(X_test) # get test set precitions\n",
    "\n",
    "    # now let's get the accuracy and confusion matrix for this iterations of training/testing\n",
    "    acc = mt.accuracy_score(y_test,y_hat+1)\n",
    "    lr_clf_accuracies.append(acc)\n",
    "    conf = mt.confusion_matrix(y_test,y_hat+1)\n",
    "    print(\"====Iteration\",iter_num,\" ====\")\n",
    "    print(\"accuracy\", acc )\n",
    "    print(\"confusion matrix\\n\",conf)\n",
    "    iter_num+=1\n",
    "    \n",
    "# Also note that every time you run the above code\n",
    "#   it randomly creates a new training and testing set, \n",
    "#   so accuracy will be different each time"
   ]
  },
  {
   "cell_type": "code",
   "execution_count": 136,
   "metadata": {
    "collapsed": false
   },
   "outputs": [
    {
     "name": "stdout",
     "output_type": "stream",
     "text": [
      "MultiClass Logistic Regression Object with coefficients:\n",
      "[[-0.05879671 -0.05804428 -0.05526859 -0.06054565 -0.052267   -0.05351393\n",
      "  -0.05683023 -0.06197697 -0.06155897 -0.05704704 -0.05106109 -0.05795078\n",
      "  -0.0529062  -0.0477312  -0.05412005 -0.05605494 -0.04988172 -0.05426526\n",
      "  -0.05548312 -0.05012395 -0.05915867 -0.0500789  -0.06567154 -0.05777443\n",
      "  -0.06066835 -0.06173793 -0.0503009  -0.06066656 -0.06476976 -0.06023164\n",
      "  -0.0471049  -0.05563847 -0.04584592 -0.04778198 -0.03651198 -0.05318108\n",
      "  -0.03835143 -0.0574508  -0.05096968 -0.03521597 -0.06329312 -0.0588248\n",
      "  -0.05537848 -0.05057318 -0.05775464 -0.06147044 -0.02760299 -0.03847083\n",
      "  -0.04607932 -0.04512763 -0.06506676 -0.04865159 -0.04216681 -0.04707778\n",
      "  -0.05371216 -0.04146041 -0.05815593 -0.07010551 -0.05526274 -0.05211043\n",
      "  -0.0522725  -0.05581161 -0.03786508 -0.06547102 -0.07566846 -0.06516685\n",
      "  -0.07262119 -0.07434775 -0.07708026 -0.07876693 -0.07366707 -0.07082593\n",
      "  -0.0825835  -0.05968502 -0.04427827 -0.04620992 -0.05437043 -0.05226108\n",
      "  -0.05801022 -0.0603631  -0.05470031 -0.05569918 -0.05487919 -0.06275186\n",
      "  -0.04917643 -0.06839585 -0.04830414 -0.07134816 -0.04438466 -0.06227983\n",
      "  -0.0521066  -0.06690601 -0.05963322 -0.06646413 -0.05390415 -0.05966169\n",
      "  -0.06362004 -0.08053355 -0.05400927 -0.07325883 -0.08005271 -0.05756825\n",
      "  -0.05287265 -0.05048133 -0.03710252 -0.05259278 -0.03553954 -0.06868195\n",
      "  -0.05686067 -0.03394349 -0.05267417 -0.06674586 -0.05173495 -0.0418132\n",
      "  -0.06048459 -0.04355511 -0.11732981 -0.06442473 -0.07458266 -0.05052147\n",
      "  -0.04333048 -0.04742128 -0.04946231 -0.06274066 -0.06223774 -0.04085736\n",
      "  -0.05601083 -0.06494752 -0.06178182 -0.05640469 -0.045028   -0.04581194\n",
      "  -0.04795058 -0.05383225 -0.05003777 -0.05890077 -0.05890077 -0.05890077\n",
      "  -0.03716372 -0.01578893 -0.02926978 -0.03818676 -0.0476185  -0.02363649\n",
      "  -0.030826   -0.04756494 -0.02059148 -0.04616691 -0.03479304 -0.02823939\n",
      "  -0.02897797 -0.03344038 -0.04143391 -0.03554517 -0.02625859 -0.0395436\n",
      "  -0.03006371 -0.05692244 -0.01545189 -0.02721764 -0.04467892 -0.02812128\n",
      "  -0.02822519 -0.02938373 -0.03075502 -0.0294534  -0.04416859 -0.04411967\n",
      "  -0.02798115 -0.04650014 -0.02519215 -0.03776498 -0.03392773]\n",
      " [-0.02166937 -0.02143956 -0.01848562 -0.01737623 -0.00986273 -0.01014985\n",
      "  -0.01064434 -0.01460738 -0.0206159  -0.02432155 -0.02769474 -0.03288509\n",
      "  -0.01753593 -0.0152354  -0.0103363  -0.02007107 -0.02481882 -0.00570659\n",
      "  -0.01122159 -0.00865671 -0.02180164 -0.02152357 -0.01866395 -0.02196429\n",
      "  -0.01895943 -0.0172307  -0.01098536 -0.01413354 -0.01840392 -0.01482268\n",
      "  -0.00427417 -0.01833248 -0.01796205 -0.0166786   0.00173011 -0.01093504\n",
      "  -0.00867966 -0.02367588 -0.02447793 -0.01428428 -0.01864551 -0.01258279\n",
      "  -0.02519507 -0.02053862 -0.01431205 -0.01026241 -0.0084677  -0.01964411\n",
      "  -0.01493024 -0.01061859 -0.01225895 -0.0066532  -0.01242224 -0.01466346\n",
      "  -0.02182392 -0.01068489 -0.0142436  -0.02294634 -0.02213373 -0.01891562\n",
      "  -0.01061406 -0.02136061 -0.01852133 -0.01979055 -0.0254966  -0.02358899\n",
      "  -0.03235207 -0.02852314 -0.02755829 -0.0286812  -0.02695418 -0.03038479\n",
      "  -0.02645482 -0.01911322 -0.01461257 -0.01927306 -0.01444566 -0.01643402\n",
      "  -0.02056784 -0.01607114 -0.02092918 -0.02257154 -0.01108811 -0.01564177\n",
      "  -0.0224425  -0.02048103 -0.02761923 -0.02375859 -0.00795504 -0.02065094\n",
      "  -0.0197656  -0.02751163 -0.01860648 -0.01244691 -0.01763532 -0.01885973\n",
      "  -0.02386644 -0.02384479 -0.02114968 -0.02508005 -0.02636872 -0.01122853\n",
      "  -0.02032378 -0.01612224 -0.0178203  -0.00993876 -0.00915107 -0.02500354\n",
      "  -0.01606098 -0.01100687 -0.01463865 -0.01110049 -0.02344189 -0.01297954\n",
      "  -0.02342957 -0.0186305  -0.02777815 -0.01602993 -0.01896017 -0.01866232\n",
      "  -0.01496039 -0.01774071 -0.01712911 -0.01503849 -0.02606441 -0.0158744\n",
      "  -0.02287653 -0.01718548 -0.02399313 -0.01729089 -0.02260441 -0.01583755\n",
      "  -0.01992889 -0.02428174 -0.02230548 -0.02175425 -0.02175426 -0.02175426\n",
      "  -0.0222197  -0.02517841 -0.01505883 -0.00993512 -0.00043839 -0.01613182\n",
      "  -0.0052143  -0.01810012 -0.00505006 -0.02275505 -0.01037165 -0.02025182\n",
      "  -0.01188588 -0.00856498 -0.00835097 -0.0053733  -0.01850908 -0.01406344\n",
      "  -0.0105892  -0.01655038 -0.0098234  -0.01069526 -0.01539091 -0.01184298\n",
      "  -0.01319085 -0.01006942 -0.00998512 -0.0087794  -0.01717286 -0.01162075\n",
      "  -0.01469691 -0.01155953 -0.01429464 -0.00625512 -0.01959847]\n",
      " [-0.02809887 -0.0294391  -0.0273715  -0.03235776 -0.02413334 -0.02470813\n",
      "  -0.03024361 -0.02900182 -0.02624604 -0.02570162 -0.02314622 -0.01922518\n",
      "  -0.03173743 -0.04538569 -0.03246373 -0.0287214  -0.02525066 -0.0395745\n",
      "  -0.03413529 -0.0330076  -0.02474216 -0.02605493 -0.01926202 -0.0279461\n",
      "  -0.02699205 -0.02406052 -0.02607964 -0.02957405 -0.024585   -0.02457821\n",
      "  -0.02911761 -0.02379238 -0.03208132 -0.03616564 -0.03635631 -0.02316206\n",
      "  -0.02874702 -0.02458463 -0.02650125 -0.03311728 -0.02175286 -0.01780606\n",
      "  -0.02501653 -0.02307473 -0.03071804 -0.02282736 -0.03278335 -0.0244303\n",
      "  -0.03494218 -0.03245757 -0.02446625 -0.03131357 -0.0309984  -0.03164657\n",
      "  -0.01218328 -0.03378185 -0.01825976 -0.01234445 -0.02001724 -0.0221551\n",
      "  -0.03560413 -0.02777403 -0.02772279 -0.02308301 -0.01239214 -0.01066299\n",
      "  -0.0143901  -0.01248064 -0.01713551 -0.01368355 -0.01627546 -0.02266876\n",
      "  -0.01898744 -0.02663181 -0.02836781 -0.02092298 -0.0295367  -0.03039881\n",
      "  -0.02022277 -0.02214677 -0.02894588 -0.02571208 -0.02549134 -0.02527667\n",
      "  -0.02262089 -0.02206329 -0.03121781 -0.01725441 -0.01999363 -0.02521617\n",
      "  -0.02761887 -0.0183679  -0.02370959 -0.02829421 -0.0264083  -0.0282347\n",
      "  -0.0222452  -0.02318399 -0.03032969 -0.01933696 -0.0117181  -0.02972791\n",
      "  -0.02855564 -0.01860937 -0.02541534 -0.01788976 -0.03144249 -0.02022857\n",
      "  -0.02756312 -0.02982444 -0.02950754 -0.03137958 -0.02718468 -0.03428001\n",
      "  -0.02355125 -0.02563592  0.00134228 -0.02668497 -0.02128778 -0.02796506\n",
      "  -0.02683173 -0.02252333 -0.02833143 -0.02144359 -0.019404   -0.026531\n",
      "  -0.02612927 -0.02435726 -0.01355359 -0.02151765 -0.02017713 -0.02608251\n",
      "  -0.02124299 -0.02076369 -0.02846338 -0.02816785 -0.02816785 -0.02816785\n",
      "  -0.01885528 -0.01611071 -0.0177063  -0.01899604 -0.0085575  -0.02427657\n",
      "  -0.01874987 -0.00518116 -0.02458082  0.00242901 -0.02599438 -0.01617351\n",
      "  -0.01697007 -0.01739778 -0.01168879 -0.02144898 -0.01844326 -0.00892941\n",
      "  -0.01402248 -0.01930029 -0.01353403 -0.02053068 -0.01617167 -0.01334699\n",
      "  -0.01322399 -0.01463629 -0.01930147 -0.02390819 -0.00628818 -0.02353814\n",
      "  -0.01150655 -0.01697058 -0.01746007 -0.02679415 -0.00960103]\n",
      " [-0.0343511  -0.03437001 -0.03383023 -0.0240803  -0.03670832 -0.03370922\n",
      "  -0.03386617 -0.02464163 -0.02470911 -0.03081736 -0.02113485 -0.01886529\n",
      "  -0.02405536 -0.02159542 -0.02889059 -0.02489401 -0.03178294 -0.02465333\n",
      "  -0.02612261 -0.02525513 -0.03566522 -0.02963849 -0.0326168  -0.03431529\n",
      "  -0.03134009 -0.02705505 -0.03755821 -0.03620344 -0.03527807 -0.03585706\n",
      "  -0.03525574 -0.03398158 -0.036182   -0.03173348 -0.04600363 -0.03588445\n",
      "  -0.03239943 -0.0333739  -0.02520206 -0.04110298 -0.02436003 -0.028066\n",
      "  -0.03026364 -0.03553944 -0.03444664 -0.02595255 -0.04396337 -0.03111916\n",
      "  -0.03531963 -0.03897959 -0.03999135 -0.03625431 -0.03075241 -0.02598644\n",
      "  -0.04315429 -0.03549917 -0.03222125 -0.02344541 -0.03795785 -0.03088329\n",
      "  -0.03234163 -0.035747   -0.03568891 -0.01675789 -0.01660594 -0.02196292\n",
      "  -0.01132594 -0.01738454 -0.01191522 -0.01034547 -0.01254277 -0.00927865\n",
      "  -0.01362957 -0.02991805 -0.04306437 -0.03269153 -0.03483724 -0.03078632\n",
      "  -0.03724415 -0.03101199 -0.03422733 -0.03508628 -0.03065715 -0.03463299\n",
      "  -0.03534389 -0.01742461 -0.02232502 -0.02719975 -0.05083918 -0.03275064\n",
      "  -0.03920001 -0.01308359 -0.03723826 -0.01720377 -0.02657423 -0.02736619\n",
      "  -0.02976867 -0.01685156 -0.0284504  -0.01957467 -0.0307487  -0.0377972\n",
      "  -0.03659249 -0.03548275 -0.0425746  -0.04171958 -0.04501038 -0.02442297\n",
      "  -0.03713863 -0.04264479 -0.02960622 -0.02330403 -0.03103906 -0.03321784\n",
      "  -0.02880453 -0.03861774 -0.01085271 -0.02865384 -0.02667933 -0.03591686\n",
      "  -0.0406808  -0.03379448 -0.03767406 -0.03287609 -0.03007484 -0.04138831\n",
      "  -0.0319091  -0.02973934 -0.03193443 -0.03526451 -0.03302804 -0.0373759\n",
      "  -0.03589673 -0.02570519 -0.03227307 -0.03446619 -0.03446619 -0.03446619\n",
      "  -0.02603239 -0.01448603 -0.01691242 -0.01641593 -0.02953288 -0.01398691\n",
      "  -0.01569827 -0.02889684 -0.02500855 -0.02361068 -0.01170182 -0.00999742\n",
      "  -0.01953733 -0.01892289 -0.02800612 -0.02874135 -0.01348939 -0.01678331\n",
      "  -0.01788203 -0.01572423 -0.02758892 -0.01290363 -0.02887751 -0.02491262\n",
      "  -0.01612531 -0.01722434 -0.01185331 -0.01490481 -0.02612537 -0.02108846\n",
      "  -0.02199932 -0.0229134  -0.0208324  -0.02159043 -0.02106525]\n",
      " [-0.07971104 -0.07665037 -0.07800084 -0.07243921 -0.0718871  -0.06964276\n",
      "  -0.07314262 -0.07092289 -0.07795302 -0.07497241 -0.06803511 -0.06494141\n",
      "  -0.07489767 -0.07004602 -0.07529376 -0.07665144 -0.06867375 -0.07727447\n",
      "  -0.06480312 -0.07275801 -0.07889784 -0.07174847 -0.07453659 -0.07727046\n",
      "  -0.0730278  -0.07592353 -0.08160972 -0.07312983 -0.07054551 -0.07828387\n",
      "  -0.07534298 -0.07970595 -0.07481507 -0.0733751  -0.08157198 -0.06934495\n",
      "  -0.07959487 -0.07859321 -0.07796807 -0.07368603 -0.07022383 -0.07179477\n",
      "  -0.0670408  -0.07601046 -0.07679636 -0.07575961 -0.07892728 -0.08348363\n",
      "  -0.06525529 -0.06352599 -0.07182422 -0.07046591 -0.07243957 -0.06208018\n",
      "  -0.07791593 -0.08346146 -0.061981   -0.06537748 -0.07285342 -0.08373978\n",
      "  -0.073235   -0.07903461 -0.08164062 -0.07990767 -0.05772821 -0.06541966\n",
      "  -0.06036596 -0.06569556 -0.06442737 -0.07034144 -0.06296188 -0.06186153\n",
      "  -0.06213993 -0.072967   -0.07753422 -0.08091545 -0.07068821 -0.07439064\n",
      "  -0.07563376 -0.0683119  -0.07700704 -0.07776453 -0.077645   -0.0763947\n",
      "  -0.08027661 -0.06324816 -0.06366719 -0.06911135 -0.0838145  -0.07097152\n",
      "  -0.07790757 -0.0578896  -0.07572284 -0.06725704 -0.07925576 -0.08049644\n",
      "  -0.07656076 -0.06023532 -0.07844453 -0.07265441 -0.05570118 -0.0694775\n",
      "  -0.0748216  -0.07090942 -0.0884974  -0.08248157 -0.09071221 -0.07235915\n",
      "  -0.07693014 -0.09177146 -0.08141284 -0.07429905 -0.07919051 -0.08986203\n",
      "  -0.06946748 -0.08560809 -0.05809037 -0.07607818 -0.06257517 -0.08264589\n",
      "  -0.08869297 -0.08364883 -0.08114653 -0.07169331 -0.07303594 -0.08765419\n",
      "  -0.0744806  -0.06699164 -0.07574682 -0.07698163 -0.08384026 -0.08341997\n",
      "  -0.08211892 -0.07793558 -0.07904187 -0.07977384 -0.07977384 -0.07977384\n",
      "  -0.06203728 -0.0480657  -0.04088537 -0.03845373 -0.04958274 -0.04343185\n",
      "  -0.0476271  -0.04641315 -0.05659302 -0.03906289 -0.0421885  -0.04287409\n",
      "  -0.03641292 -0.04717322 -0.05127295 -0.05905472 -0.04079299 -0.0389635\n",
      "  -0.03916889 -0.0328887  -0.06675141 -0.04477267 -0.053061   -0.04436342\n",
      "  -0.04112182 -0.04050237 -0.04337658 -0.03784717 -0.05042018 -0.04945849\n",
      "  -0.04850054 -0.05019278 -0.04860678 -0.0493964  -0.04831023]]\n",
      "Accuracy of:  0.230693069307\n",
      "CPU times: user 1.1 s, sys: 24 ms, total: 1.13 s\n",
      "Wall time: 285 ms\n"
     ]
    }
   ],
   "source": [
    "%%time\n",
    "lr = MultiClassLogisticRegression(eta=0.1,iterations=10,C=0.0001)\n",
    "lr.fit(X,y)\n",
    "print(lr)\n",
    "\n",
    "yhat = lr.predict(X)\n",
    "print('Accuracy of: ',accuracy_score(y,yhat+1))"
   ]
  },
  {
   "cell_type": "code",
   "execution_count": 137,
   "metadata": {
    "collapsed": false
   },
   "outputs": [],
   "source": [
    "# linear boundaries visualization from sklearn documentation\n",
    "from matplotlib import pyplot as plt\n",
    "import copy\n",
    "%matplotlib inline\n",
    "\n",
    "def plot_decision_boundaries(lr,Xin,y,title=''):\n",
    "    Xb = copy.deepcopy(Xin)\n",
    "    lr.fit(Xb[:,:2],y) # train only on two features\n",
    "\n",
    "    h=0.01\n",
    "    # create a mesh to plot in\n",
    "    x_min, x_max = Xb[:, 0].min() - 1, Xb[:, 0].max() + 1\n",
    "    y_min, y_max = Xb[:, 1].min() - 1, Xb[:, 1].max() + 1\n",
    "    xx, yy = np.meshgrid(np.arange(x_min, x_max, h),\n",
    "                         np.arange(y_min, y_max, h))\n",
    "\n",
    "    # get prediction values\n",
    "    Z = lr.predict(np.c_[xx.ravel(), yy.ravel()])\n",
    "\n",
    "    # Put the result into a color plot\n",
    "    Z = Z.reshape(xx.shape)\n",
    "    plt.contourf(xx, yy, Z, cmap=plt.cm.Paired, alpha=0.5)\n",
    "\n",
    "    # Plot also the training points\n",
    "    plt.scatter(Xb[:, 0], Xb[:, 1], c=y, cmap=plt.cm.Paired)\n",
    "    plt.xlabel('Feature')\n",
    "    plt.ylabel('Fear of Public Speaking')\n",
    "    plt.xlim(xx.min(), xx.max())\n",
    "    plt.ylim(yy.min(), yy.max())\n",
    "    plt.xticks(())\n",
    "    plt.yticks(())\n",
    "    plt.title(title)\n",
    "    plt.show()\n"
   ]
  },
  {
   "cell_type": "code",
   "execution_count": 138,
   "metadata": {
    "collapsed": false
   },
   "outputs": [
    {
     "name": "stdout",
     "output_type": "stream",
     "text": [
      "CPU times: user 12 µs, sys: 1 µs, total: 13 µs\n",
      "Wall time: 6.91 µs\n",
      "For  BFGSBinaryLogisticRegression  and cost  0.0  Accuracy of:  0.453465346535\n",
      "CPU times: user 14 µs, sys: 1 µs, total: 15 µs\n",
      "Wall time: 7.15 µs\n",
      "For  BFGSBinaryLogisticRegression  and cost  0.002  Accuracy of:  0.444554455446\n",
      "CPU times: user 9 µs, sys: 6 µs, total: 15 µs\n",
      "Wall time: 8.11 µs\n",
      "For  BFGSBinaryLogisticRegression  and cost  0.004  Accuracy of:  0.414851485149\n",
      "CPU times: user 4 µs, sys: 1 µs, total: 5 µs\n",
      "Wall time: 8.11 µs\n",
      "For  BFGSBinaryLogisticRegression  and cost  0.006  Accuracy of:  0.372277227723\n",
      "CPU times: user 2 µs, sys: 0 ns, total: 2 µs\n",
      "Wall time: 5.01 µs\n",
      "For  BFGSBinaryLogisticRegression  and cost  0.008  Accuracy of:  0.372277227723\n",
      "CPU times: user 8 µs, sys: 1 µs, total: 9 µs\n",
      "Wall time: 6.91 µs\n",
      "For  StochasticLogisticRegression  and cost  0.0  Accuracy of:  0.305940594059\n",
      "CPU times: user 14 µs, sys: 2 µs, total: 16 µs\n",
      "Wall time: 7.15 µs\n",
      "For  StochasticLogisticRegression  and cost  0.002  Accuracy of:  0.191089108911\n",
      "CPU times: user 16 µs, sys: 1 µs, total: 17 µs\n",
      "Wall time: 4.05 µs\n",
      "For  StochasticLogisticRegression  and cost  0.004  Accuracy of:  0.191089108911\n",
      "CPU times: user 23 µs, sys: 2 µs, total: 25 µs\n",
      "Wall time: 11 µs\n",
      "For  StochasticLogisticRegression  and cost  0.006  Accuracy of:  0.305940594059\n",
      "CPU times: user 12 µs, sys: 1 µs, total: 13 µs\n",
      "Wall time: 5.96 µs\n",
      "For  StochasticLogisticRegression  and cost  0.008  Accuracy of:  0.230693069307\n",
      "CPU times: user 11 µs, sys: 1 µs, total: 12 µs\n",
      "Wall time: 5.01 µs\n",
      "For  LineSearchLogisticRegression  and cost  0.0  Accuracy of:  0.230693069307\n",
      "CPU times: user 11 µs, sys: 0 ns, total: 11 µs\n",
      "Wall time: 5.01 µs\n",
      "For  LineSearchLogisticRegression  and cost  0.002  Accuracy of:  0.230693069307\n",
      "CPU times: user 12 µs, sys: 1e+03 ns, total: 13 µs\n",
      "Wall time: 5.96 µs\n",
      "For  LineSearchLogisticRegression  and cost  0.004  Accuracy of:  0.0970297029703\n",
      "CPU times: user 8 µs, sys: 1 µs, total: 9 µs\n",
      "Wall time: 5.01 µs\n",
      "For  LineSearchLogisticRegression  and cost  0.006  Accuracy of:  0.0970297029703\n",
      "CPU times: user 19 µs, sys: 0 ns, total: 19 µs\n",
      "Wall time: 5.96 µs\n",
      "For  LineSearchLogisticRegression  and cost  0.008  Accuracy of:  0.230693069307\n"
     ]
    }
   ],
   "source": [
    "\n",
    "\n",
    "costs = [n for n in np.arange(0,0.01,0.002)]\n",
    "\n",
    "optimizations = [\"BFGSBinaryLogisticRegression\",\"StochasticLogisticRegression\",\"LineSearchLogisticRegression\"]\n",
    "\n",
    "for optimization in optimizations:\n",
    "    for cost in costs:\n",
    "        %%time\n",
    "        lr = MultiClassLogisticRegression(eta=0.1,\n",
    "                                           iterations=10,\n",
    "                                           C=cost,optimization=optimization) # get object\n",
    "        lr.fit(X,y)\n",
    "#         print(lr)\n",
    "        yhat = lr.predict(X)\n",
    "        print('For ',optimization,' and cost ', cost,' Accuracy of: ',accuracy_score(y,yhat+1))\n",
    "        \n"
   ]
  },
  {
   "cell_type": "code",
   "execution_count": 139,
   "metadata": {
    "collapsed": false
   },
   "outputs": [
    {
     "name": "stdout",
     "output_type": "stream",
     "text": [
      "Accuracy of:  0.548514851485\n",
      "CPU times: user 614 ms, sys: 23.9 ms, total: 638 ms\n",
      "Wall time: 164 ms\n"
     ]
    }
   ],
   "source": [
    "%%time\n",
    "from sklearn.linear_model import LogisticRegression as SKLogisticRegression\n",
    "\n",
    "lr_sk = SKLogisticRegression(solver='lbfgs')#,max_iter=100,C=0.005) \n",
    "lr_sk.fit(X,y)\n",
    "#print(np.hstack((lr_sk.intercept_[:,np.newaxis],lr_sk.coef_)))\n",
    "yhat = lr_sk.predict(X)\n",
    "print('Accuracy of: ',accuracy_score(y,yhat))\n"
   ]
  },
  {
   "cell_type": "code",
   "execution_count": 140,
   "metadata": {
    "collapsed": false
   },
   "outputs": [
    {
     "name": "stdout",
     "output_type": "stream",
     "text": [
      "Iterations  [100 100  91 100  37]\n",
      "====Iteration 0  ====\n",
      "accuracy 0.237623762376\n",
      "confusion matrix\n",
      " [[ 0 30  0  0  0]\n",
      " [ 0 48  0  0  0]\n",
      " [ 0 68  0  0  0]\n",
      " [ 0 40  0  0  0]\n",
      " [ 0 16  0  0  0]]\n",
      "Iterations  [100 100 100 100 100]\n",
      "====Iteration 1  ====\n",
      "accuracy 0.222772277228\n",
      "confusion matrix\n",
      " [[ 0 30  0  0  0]\n",
      " [ 0 45  0  0  0]\n",
      " [ 0 65  0  0  0]\n",
      " [ 0 41  0  0  0]\n",
      " [ 0 21  0  0  0]]\n",
      "Iterations  [100 100 100 100  61]\n",
      "====Iteration 2  ====\n",
      "accuracy 0.237623762376\n",
      "confusion matrix\n",
      " [[ 0 43  0  0  0]\n",
      " [ 0 48  0  0  0]\n",
      " [ 0 54  0  0  0]\n",
      " [ 0 39  0  0  0]\n",
      " [ 0 18  0  0  0]]\n",
      "[0.1221010684967041, 0.14481019973754883, 0.12372183799743652]\n"
     ]
    }
   ],
   "source": [
    "# run logistic regression and vary some parameters\n",
    "from sklearn import metrics as mt\n",
    "\n",
    "# first we create a reusable logisitic regression object\n",
    "#   here we can setup the object with different learning parameters and constants\n",
    "\n",
    "\n",
    "lr_sk = SKLogisticRegression(solver='lbfgs')#,max_iter=100,C=0.005) \n",
    "\n",
    "lr_sk_accuracies = []\n",
    "lr_sk_times = []\n",
    "# now we can use the cv_object that we setup before to iterate through the \n",
    "#    different training and testing sets. Each time we will reuse the logisitic regression \n",
    "#    object, but it gets trained on different data each time we use it.\n",
    "\n",
    "iter_num=0\n",
    "# the indices are the rows used for training and testing in each iteration\n",
    "for train_indices, test_indices in cv_object.split(X,y): \n",
    "    # I will create new variables here so that it is more obvious what \n",
    "    # the code is doing (you can compact this syntax and avoid duplicating memory,\n",
    "    # but it makes this code less readable)\n",
    "    X_train = X[train_indices]\n",
    "    y_train = y[train_indices]\n",
    "    \n",
    "#     print(X_train)\n",
    "#     print(y_train)\n",
    "    \n",
    "    X_test = X[test_indices]\n",
    "    y_test = y[test_indices]\n",
    "    \n",
    "    # train the reusable logisitc regression model on the training data\n",
    "    st = time.time()\n",
    "    lr_sk.fit(X_train,y_train)\n",
    "    t = (time.time() -st)\n",
    "    lr_sk_times.append(t)\n",
    "    #print(np.hstack((lr_sk.intercept_[:,np.newaxis],lr_sk.coef_)))\n",
    "    yhat = lr_sk.predict(X_test)\n",
    " \n",
    "    print(\"Iterations \",lr_sk.n_iter_)\n",
    "    # now let's get the accuracy and confusion matrix for this iterations of training/testing\n",
    "    acc = mt.accuracy_score(y_test,y_hat)\n",
    "    lr_sk_accuracies.append(acc)\n",
    "    conf = mt.confusion_matrix(y_test,y_hat)\n",
    "    print(\"====Iteration\",iter_num,\" ====\")\n",
    "    print(\"accuracy\", acc )\n",
    "    print(\"confusion matrix\\n\",conf)\n",
    "    iter_num+=1\n",
    "\n",
    "print(lr_sk_times)\n",
    "# Also note that every time you run the above code\n",
    "#   it randomly creates a new training and testing set, \n",
    "#   so accuracy will be different each time"
   ]
  },
  {
   "cell_type": "code",
   "execution_count": 145,
   "metadata": {
    "collapsed": false
   },
   "outputs": [
    {
     "name": "stdout",
     "output_type": "stream",
     "text": [
      "75144.88849639893\n"
     ]
    },
    {
     "data": {
      "image/png": "[encoded data removed]",
      "text/plain": [
       "<matplotlib.figure.Figure at 0x120ee1f60>"
      ]
     },
     "metadata": {},
     "output_type": "display_data"
    },
    {
     "data": {
      "text/plain": [
       "<matplotlib.figure.Figure at 0x120f0dc50>"
      ]
     },
     "metadata": {},
     "output_type": "display_data"
    }
   ],
   "source": [
    "plt.boxplot([lr_sk_accuracies,lr_clf_accuracies])\n",
    "plt.title(\"Comparing Accuracies\")\n",
    "plt.xlabel('Implementation of Logistic Regression')\n",
    "plt.xticks([1,2],['SKL','OURS'])\n",
    "plt.figure()\n",
    "print((time.time() -st)*100)\n",
    "# ax = fig.add_subplot(111)\n"
   ]
  },
  {
   "cell_type": "code",
   "execution_count": 146,
   "metadata": {
    "collapsed": false,
    "scrolled": false
   },
   "outputs": [
    {
     "data": {
      "text/plain": [
       "<matplotlib.figure.Figure at 0x120552eb8>"
      ]
     },
     "execution_count": 146,
     "metadata": {},
     "output_type": "execute_result"
    },
    {
     "data": {
      "image/png": "[encoded data removed]",
      "text/plain": [
       "<matplotlib.figure.Figure at 0x1207d0588>"
      ]
     },
     "metadata": {},
     "output_type": "display_data"
    },
    {
     "data": {
      "text/plain": [
       "<matplotlib.figure.Figure at 0x120552eb8>"
      ]
     },
     "metadata": {},
     "output_type": "display_data"
    }
   ],
   "source": [
    "plt.boxplot([lr_sk_times,lr_clf_times])\n",
    "plt.title(\"Comparing Training Times\")\n",
    "plt.xlabel('Implementation of Logistic Regression')\n",
    "plt.ylabel('Training Time (seconds) ')\n",
    "plt.xticks([1,2],['SKL','OURS'])\n",
    "plt.figure()"
   ]
  },
  {
   "cell_type": "code",
   "execution_count": 143,
   "metadata": {
    "collapsed": false
   },
   "outputs": [
    {
     "name": "stdout",
     "output_type": "stream",
     "text": [
      "[0.1221010684967041, 0.14481019973754883, 0.12372183799743652]\n",
      "[0.15733003616333008, 0.13342595100402832, 0.12798094749450684]\n"
     ]
    }
   ],
   "source": [
    "print(lr_sk_times)\n",
    "print(lr_clf_times)\n"
   ]
  },
  {
   "cell_type": "code",
   "execution_count": 153,
   "metadata": {
    "collapsed": false
   },
   "outputs": [
    {
     "data": {
      "text/plain": [
       "array([  1.00000000e-03,   1.20679264e-03,   1.45634848e-03,\n",
       "         1.75751062e-03,   2.12095089e-03,   2.55954792e-03,\n",
       "         3.08884360e-03,   3.72759372e-03,   4.49843267e-03,\n",
       "         5.42867544e-03,   6.55128557e-03,   7.90604321e-03,\n",
       "         9.54095476e-03,   1.15139540e-02,   1.38949549e-02,\n",
       "         1.67683294e-02,   2.02358965e-02,   2.44205309e-02,\n",
       "         2.94705170e-02,   3.55648031e-02,   4.29193426e-02,\n",
       "         5.17947468e-02,   6.25055193e-02,   7.54312006e-02,\n",
       "         9.10298178e-02,   1.09854114e-01,   1.32571137e-01,\n",
       "         1.59985872e-01,   1.93069773e-01,   2.32995181e-01,\n",
       "         2.81176870e-01,   3.39322177e-01,   4.09491506e-01,\n",
       "         4.94171336e-01,   5.96362332e-01,   7.19685673e-01,\n",
       "         8.68511374e-01,   1.04811313e+00,   1.26485522e+00,\n",
       "         1.52641797e+00,   1.84206997e+00,   2.22299648e+00,\n",
       "         2.68269580e+00,   3.23745754e+00,   3.90693994e+00,\n",
       "         4.71486636e+00,   5.68986603e+00,   6.86648845e+00,\n",
       "         8.28642773e+00,   1.00000000e+01])"
      ]
     },
     "execution_count": 153,
     "metadata": {},
     "output_type": "execute_result"
    }
   ],
   "source": [
    "costs = np.logspace(-3,1)\n",
    "costs.sort()\n",
    "costs"
   ]
  },
  {
   "cell_type": "code",
   "execution_count": 220,
   "metadata": {
    "collapsed": false
   },
   "outputs": [
    {
     "name": "stdout",
     "output_type": "stream",
     "text": [
      "CPU times: user 2 µs, sys: 0 ns, total: 2 µs\n",
      "Wall time: 6.2 µs\n",
      "For  BFGSBinaryLogisticRegression  and cost  0.001  Accuracy of:  0.456435643564\n",
      "CPU times: user 2 µs, sys: 1e+03 ns, total: 3 µs\n",
      "Wall time: 5.01 µs\n",
      "For  BFGSBinaryLogisticRegression  and cost  0.00120679264064  Accuracy of:  0.446534653465\n",
      "CPU times: user 17 µs, sys: 2 µs, total: 19 µs\n",
      "Wall time: 6.91 µs\n",
      "For  BFGSBinaryLogisticRegression  and cost  0.0014563484775  Accuracy of:  0.448514851485\n",
      "CPU times: user 7 µs, sys: 0 ns, total: 7 µs\n",
      "Wall time: 5.01 µs\n",
      "For  BFGSBinaryLogisticRegression  and cost  0.00175751062485  Accuracy of:  0.443564356436\n",
      "CPU times: user 2 µs, sys: 1e+03 ns, total: 3 µs\n",
      "Wall time: 5.96 µs\n",
      "For  BFGSBinaryLogisticRegression  and cost  0.00212095088792  Accuracy of:  0.445544554455\n",
      "CPU times: user 3 µs, sys: 1e+03 ns, total: 4 µs\n",
      "Wall time: 8.11 µs\n",
      "For  BFGSBinaryLogisticRegression  and cost  0.0025595479227  Accuracy of:  0.429702970297\n",
      "CPU times: user 12 µs, sys: 1e+03 ns, total: 13 µs\n",
      "Wall time: 7.15 µs\n",
      "For  BFGSBinaryLogisticRegression  and cost  0.00308884359648  Accuracy of:  0.434653465347\n",
      "CPU times: user 6 µs, sys: 0 ns, total: 6 µs\n",
      "Wall time: 5.01 µs\n",
      "For  BFGSBinaryLogisticRegression  and cost  0.00372759372031  Accuracy of:  0.410891089109\n",
      "CPU times: user 2 µs, sys: 0 ns, total: 2 µs\n",
      "Wall time: 5.01 µs\n",
      "For  BFGSBinaryLogisticRegression  and cost  0.00449843266897  Accuracy of:  0.413861386139\n",
      "CPU times: user 2 µs, sys: 1e+03 ns, total: 3 µs\n",
      "Wall time: 4.05 µs\n",
      "For  BFGSBinaryLogisticRegression  and cost  0.00542867543932  Accuracy of:  0.384158415842\n",
      "CPU times: user 11 µs, sys: 0 ns, total: 11 µs\n",
      "Wall time: 5.01 µs\n",
      "For  BFGSBinaryLogisticRegression  and cost  0.0065512855686  Accuracy of:  0.380198019802\n",
      "CPU times: user 13 µs, sys: 1e+03 ns, total: 14 µs\n",
      "Wall time: 7.15 µs\n",
      "For  BFGSBinaryLogisticRegression  and cost  0.00790604321091  Accuracy of:  0.372277227723\n",
      "CPU times: user 9 µs, sys: 1e+03 ns, total: 10 µs\n",
      "Wall time: 8.11 µs\n",
      "For  BFGSBinaryLogisticRegression  and cost  0.0095409547635  Accuracy of:  0.367326732673\n",
      "CPU times: user 7 µs, sys: 1 µs, total: 8 µs\n",
      "Wall time: 5.96 µs\n",
      "For  BFGSBinaryLogisticRegression  and cost  0.0115139539933  Accuracy of:  0.362376237624\n",
      "CPU times: user 2 µs, sys: 0 ns, total: 2 µs\n",
      "Wall time: 5.01 µs\n",
      "For  BFGSBinaryLogisticRegression  and cost  0.0138949549437  Accuracy of:  0.360396039604\n",
      "CPU times: user 14 µs, sys: 1 µs, total: 15 µs\n",
      "Wall time: 8.11 µs\n",
      "For  BFGSBinaryLogisticRegression  and cost  0.0167683293681  Accuracy of:  0.342574257426\n",
      "CPU times: user 15 µs, sys: 0 ns, total: 15 µs\n",
      "Wall time: 5.01 µs\n",
      "For  BFGSBinaryLogisticRegression  and cost  0.0202358964773  Accuracy of:  0.306930693069\n",
      "CPU times: user 3 µs, sys: 2 µs, total: 5 µs\n",
      "Wall time: 7.87 µs\n",
      "For  BFGSBinaryLogisticRegression  and cost  0.0244205309455  Accuracy of:  0.327722772277\n",
      "CPU times: user 11 µs, sys: 1 µs, total: 12 µs\n",
      "Wall time: 5.01 µs\n",
      "For  BFGSBinaryLogisticRegression  and cost  0.0294705170255  Accuracy of:  0.305940594059\n",
      "CPU times: user 2 µs, sys: 1e+03 ns, total: 3 µs\n",
      "Wall time: 5.01 µs\n",
      "For  BFGSBinaryLogisticRegression  and cost  0.0355648030622  Accuracy of:  0.305940594059\n",
      "CPU times: user 2 µs, sys: 0 ns, total: 2 µs\n",
      "Wall time: 5.01 µs\n",
      "For  BFGSBinaryLogisticRegression  and cost  0.0429193426013  Accuracy of:  0.305940594059\n",
      "CPU times: user 2 µs, sys: 1e+03 ns, total: 3 µs\n",
      "Wall time: 5.01 µs\n",
      "For  BFGSBinaryLogisticRegression  and cost  0.0517947467923  Accuracy of:  0.323762376238\n",
      "CPU times: user 13 µs, sys: 1 µs, total: 14 µs\n",
      "Wall time: 5.01 µs\n",
      "For  BFGSBinaryLogisticRegression  and cost  0.0625055192527  Accuracy of:  0.305940594059\n",
      "CPU times: user 11 µs, sys: 2 µs, total: 13 µs\n",
      "Wall time: 5.96 µs\n",
      "For  BFGSBinaryLogisticRegression  and cost  0.0754312006335  Accuracy of:  0.305940594059\n",
      "CPU times: user 14 µs, sys: 1 µs, total: 15 µs\n",
      "Wall time: 6.91 µs\n",
      "For  BFGSBinaryLogisticRegression  and cost  0.0910298177992  Accuracy of:  0.305940594059\n",
      "CPU times: user 6 µs, sys: 1 µs, total: 7 µs\n",
      "Wall time: 4.77 µs\n",
      "For  BFGSBinaryLogisticRegression  and cost  0.109854114199  Accuracy of:  0.305940594059\n",
      "CPU times: user 7 µs, sys: 0 ns, total: 7 µs\n",
      "Wall time: 5.01 µs\n",
      "For  BFGSBinaryLogisticRegression  and cost  0.132571136559  Accuracy of:  0.305940594059\n",
      "CPU times: user 17 µs, sys: 1 µs, total: 18 µs\n",
      "Wall time: 6.91 µs\n",
      "For  BFGSBinaryLogisticRegression  and cost  0.159985871961  Accuracy of:  0.305940594059\n",
      "CPU times: user 17 µs, sys: 1e+03 ns, total: 18 µs\n",
      "Wall time: 5.96 µs\n",
      "For  BFGSBinaryLogisticRegression  and cost  0.193069772888  Accuracy of:  0.305940594059\n",
      "CPU times: user 14 µs, sys: 1e+03 ns, total: 15 µs\n",
      "Wall time: 5.01 µs\n",
      "For  BFGSBinaryLogisticRegression  and cost  0.232995181052  Accuracy of:  0.305940594059\n",
      "CPU times: user 15 µs, sys: 1 µs, total: 16 µs\n",
      "Wall time: 5.01 µs\n",
      "For  BFGSBinaryLogisticRegression  and cost  0.281176869797  Accuracy of:  0.305940594059\n",
      "CPU times: user 15 µs, sys: 6 µs, total: 21 µs\n",
      "Wall time: 8.82 µs\n",
      "For  BFGSBinaryLogisticRegression  and cost  0.33932217719  Accuracy of:  0.305940594059\n",
      "CPU times: user 19 µs, sys: 1 µs, total: 20 µs\n",
      "Wall time: 7.15 µs\n",
      "For  BFGSBinaryLogisticRegression  and cost  0.409491506238  Accuracy of:  0.305940594059\n",
      "CPU times: user 3 µs, sys: 5 µs, total: 8 µs\n",
      "Wall time: 6.91 µs\n",
      "For  BFGSBinaryLogisticRegression  and cost  0.494171336132  Accuracy of:  0.305940594059\n",
      "CPU times: user 9 µs, sys: 1e+03 ns, total: 10 µs\n",
      "Wall time: 6.2 µs\n",
      "For  BFGSBinaryLogisticRegression  and cost  0.596362331659  Accuracy of:  0.349504950495\n",
      "CPU times: user 17 µs, sys: 1e+03 ns, total: 18 µs\n",
      "Wall time: 5.96 µs\n",
      "For  BFGSBinaryLogisticRegression  and cost  0.719685673001  Accuracy of:  0.218811881188\n",
      "CPU times: user 11 µs, sys: 1e+03 ns, total: 12 µs\n",
      "Wall time: 5.01 µs\n",
      "For  BFGSBinaryLogisticRegression  and cost  0.868511373751  Accuracy of:  0.242574257426\n",
      "CPU times: user 2 µs, sys: 1 µs, total: 3 µs\n",
      "Wall time: 3.81 µs\n"
     ]
    },
    {
     "name": "stderr",
     "output_type": "stream",
     "text": [
      "/Users/rupalsanghavi/anaconda3/lib/python3.5/site-packages/ipykernel/__main__.py:10: RuntimeWarning:\n",
      "\n",
      "divide by zero encountered in log\n",
      "\n",
      "/Users/rupalsanghavi/anaconda3/lib/python3.5/site-packages/ipykernel/__main__.py:10: RuntimeWarning:\n",
      "\n",
      "divide by zero encountered in log\n",
      "\n"
     ]
    },
    {
     "name": "stdout",
     "output_type": "stream",
     "text": [
      "For  BFGSBinaryLogisticRegression  and cost  1.04811313415  Accuracy of:  0.191089108911\n",
      "CPU times: user 3 µs, sys: 10 µs, total: 13 µs\n",
      "Wall time: 8.11 µs\n",
      "For  BFGSBinaryLogisticRegression  and cost  1.26485521686  Accuracy of:  0.305940594059\n",
      "CPU times: user 17 µs, sys: 1 µs, total: 18 µs\n",
      "Wall time: 5.01 µs\n",
      "For  BFGSBinaryLogisticRegression  and cost  1.52641796718  Accuracy of:  0.305940594059\n",
      "CPU times: user 7 µs, sys: 0 ns, total: 7 µs\n",
      "Wall time: 5.01 µs\n",
      "For  BFGSBinaryLogisticRegression  and cost  1.84206996933  Accuracy of:  0.318811881188\n",
      "CPU times: user 4 µs, sys: 1e+03 ns, total: 5 µs\n",
      "Wall time: 5.01 µs\n",
      "For  BFGSBinaryLogisticRegression  and cost  2.22299648253  Accuracy of:  0.305940594059\n",
      "CPU times: user 10 µs, sys: 2 µs, total: 12 µs\n",
      "Wall time: 5.01 µs\n",
      "For  BFGSBinaryLogisticRegression  and cost  2.68269579528  Accuracy of:  0.305940594059\n",
      "CPU times: user 16 µs, sys: 0 ns, total: 16 µs\n",
      "Wall time: 5.01 µs\n",
      "For  BFGSBinaryLogisticRegression  and cost  3.23745754282  Accuracy of:  0.305940594059\n",
      "CPU times: user 15 µs, sys: 1e+03 ns, total: 16 µs\n",
      "Wall time: 5.01 µs\n",
      "For  BFGSBinaryLogisticRegression  and cost  3.90693993705  Accuracy of:  0.305940594059\n",
      "CPU times: user 6 µs, sys: 2 µs, total: 8 µs\n",
      "Wall time: 5.01 µs\n",
      "For  BFGSBinaryLogisticRegression  and cost  4.71486636346  Accuracy of:  0.305940594059\n",
      "CPU times: user 13 µs, sys: 0 ns, total: 13 µs\n",
      "Wall time: 8.11 µs\n",
      "For  BFGSBinaryLogisticRegression  and cost  5.68986602902  Accuracy of:  0.0970297029703\n",
      "CPU times: user 15 µs, sys: 0 ns, total: 15 µs\n",
      "Wall time: 6.2 µs\n",
      "For  BFGSBinaryLogisticRegression  and cost  6.86648845004  Accuracy of:  0.0970297029703\n",
      "CPU times: user 7 µs, sys: 1e+03 ns, total: 8 µs\n",
      "Wall time: 5.01 µs\n",
      "For  BFGSBinaryLogisticRegression  and cost  8.28642772855  Accuracy of:  0.0970297029703\n",
      "CPU times: user 2 µs, sys: 0 ns, total: 2 µs\n",
      "Wall time: 5.96 µs\n",
      "For  BFGSBinaryLogisticRegression  and cost  10.0  Accuracy of:  0.175247524752\n"
     ]
    }
   ],
   "source": [
    "\n",
    "\n",
    "costs = np.logspace(-3,1)\n",
    "costs.sort()\n",
    "\n",
    "cost_accuracies = []\n",
    "optimizations = [\"BFGSBinaryLogisticRegression\"]#,\"StochasticLogisticRegression\",\"LineSearchLogisticRegression\"]\n",
    "\n",
    "for optimization in optimizations:\n",
    "    for cost in costs:\n",
    "        %%time\n",
    "        lr = MultiClassLogisticRegression(eta=0.1,\n",
    "                                           iterations=10,\n",
    "                                           C=cost,optimization=optimization) # get object\n",
    "        lr.fit(X,y)\n",
    "#         print(lr)\n",
    "        yhat = lr.predict(X)\n",
    "        acc = accuracy_score(y,yhat+1)\n",
    "        cost_accuracies.append([acc])\n",
    "        print('For ',optimization,' and cost ', cost,' Accuracy of: ',acc)\n",
    "        \n"
   ]
  },
  {
   "cell_type": "code",
   "execution_count": 227,
   "metadata": {
    "collapsed": false
   },
   "outputs": [
    {
     "data": {
      "text/plain": [
       "<matplotlib.figure.Figure at 0x120767e48>"
      ]
     },
     "execution_count": 227,
     "metadata": {},
     "output_type": "execute_result"
    },
    {
     "data": {
      "image/png": "[encoded data removed]",
      "text/plain": [
       "<matplotlib.figure.Figure at 0x121006cf8>"
      ]
     },
     "metadata": {},
     "output_type": "display_data"
    },
    {
     "data": {
      "text/plain": [
       "<matplotlib.figure.Figure at 0x120767e48>"
      ]
     },
     "metadata": {},
     "output_type": "display_data"
    }
   ],
   "source": [
    "plt.boxplot(cost_accuracies)\n",
    "plt.title(\"Determining Optimal Value of Regularization Term C\")\n",
    "plt.xlabel('Value of C ')\n",
    "plt.ylabel('Accuracy (%) ')\n",
    "costs_plot = np.around(costs,decimals=2)\n",
    "plt.xticks(li[0],costs_plot, rotation=90)\n",
    "plt.figure()"
   ]
  },
  {
   "cell_type": "code",
   "execution_count": 196,
   "metadata": {
    "collapsed": false
   },
   "outputs": [],
   "source": [
    "li = [np.arange(1,51)]"
   ]
  },
  {
   "cell_type": "code",
   "execution_count": 200,
   "metadata": {
    "collapsed": false
   },
   "outputs": [
    {
     "ename": "AttributeError",
     "evalue": "'numpy.float64' object has no attribute 'format'",
     "output_type": "error",
     "traceback": [
      "\u001b[0;31m---------------------------------------------------------------------------\u001b[0m",
      "\u001b[0;31mAttributeError\u001b[0m                            Traceback (most recent call last)",
      "\u001b[0;32m<ipython-input-200-58e0de847007>\u001b[0m in \u001b[0;36m<module>\u001b[0;34m()\u001b[0m\n\u001b[0;32m----> 1\u001b[0;31m \u001b[0;34m[\u001b[0m\u001b[0mcost\u001b[0m\u001b[0;34m.\u001b[0m\u001b[0mformat\u001b[0m\u001b[0;34m(\u001b[0m\u001b[0mround\u001b[0m\u001b[0;34m(\u001b[0m\u001b[0ma\u001b[0m\u001b[0;34m,\u001b[0m\u001b[0;36m2\u001b[0m\u001b[0;34m)\u001b[0m \u001b[0;32mfor\u001b[0m \u001b[0mcost\u001b[0m \u001b[0;32min\u001b[0m \u001b[0mcost_accuracies\u001b[0m\u001b[0;34m)\u001b[0m\u001b[0;34m]\u001b[0m\u001b[0;34m\u001b[0m\u001b[0m\n\u001b[0m",
      "\u001b[0;31mAttributeError\u001b[0m: 'numpy.float64' object has no attribute 'format'"
     ]
    }
   ],
   "source": [
    "[cost.format(round(a,2) for cost in cost_accuracies)]"
   ]
  },
  {
   "cell_type": "code",
   "execution_count": 206,
   "metadata": {
    "collapsed": false
   },
   "outputs": [],
   "source": [
    "cost_accuracies = np.around(cost_accuracies,decimals=2)"
   ]
  },
  {
   "cell_type": "code",
   "execution_count": 222,
   "metadata": {
    "collapsed": false
   },
   "outputs": [
    {
     "name": "stdout",
     "output_type": "stream",
     "text": [
      "[  1.00000000e-03   1.20679264e-03   1.45634848e-03   1.75751062e-03\n",
      "   2.12095089e-03   2.55954792e-03   3.08884360e-03   3.72759372e-03\n",
      "   4.49843267e-03   5.42867544e-03   6.55128557e-03   7.90604321e-03\n",
      "   9.54095476e-03   1.15139540e-02   1.38949549e-02   1.67683294e-02\n",
      "   2.02358965e-02   2.44205309e-02   2.94705170e-02   3.55648031e-02\n",
      "   4.29193426e-02   5.17947468e-02   6.25055193e-02   7.54312006e-02\n",
      "   9.10298178e-02   1.09854114e-01   1.32571137e-01   1.59985872e-01\n",
      "   1.93069773e-01   2.32995181e-01   2.81176870e-01   3.39322177e-01\n",
      "   4.09491506e-01   4.94171336e-01   5.96362332e-01   7.19685673e-01\n",
      "   8.68511374e-01   1.04811313e+00   1.26485522e+00   1.52641797e+00\n",
      "   1.84206997e+00   2.22299648e+00   2.68269580e+00   3.23745754e+00\n",
      "   3.90693994e+00   4.71486636e+00   5.68986603e+00   6.86648845e+00\n",
      "   8.28642773e+00   1.00000000e+01]\n"
     ]
    }
   ],
   "source": [
    "print(costs)"
   ]
  },
  {
   "cell_type": "code",
   "execution_count": null,
   "metadata": {
    "collapsed": true
   },
   "outputs": [],
   "source": []
  }
 ],
 "metadata": {
  "anaconda-cloud": {},
  "kernelspec": {
   "display_name": "Python [conda root]",
   "language": "python",
   "name": "conda-root-py"
  },
  "language_info": {
   "codemirror_mode": {
    "name": "ipython",
    "version": 3
   },
   "file_extension": ".py",
   "mimetype": "text/x-python",
   "name": "python",
   "nbconvert_exporter": "python",
   "pygments_lexer": "ipython3",
   "version": "3.5.2"
  }
 },
 "nbformat": 4,
 "nbformat_minor": 1
}
